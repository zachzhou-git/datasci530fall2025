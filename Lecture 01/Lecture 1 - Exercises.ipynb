{
 "cells": [
  {
   "attachments": {},
   "cell_type": "markdown",
   "metadata": {},
   "source": [
    "# Lecture 1 Exercises"
   ]
  },
  {
   "cell_type": "markdown",
   "metadata": {},
   "source": [
    "\n",
    "\n",
    "## Short Questions\n",
    "\n",
    "<font size = \"5\">\n",
    "\n",
    "1. What is the difference between a list and an array?\n",
    "2. Consider the list <br>\n",
    "\n",
    "```list_colors = [\"red\",\"yellow\",\"green\"]``` <br>\n",
    "\n",
    "What is the output of ```list_colors[0]``` and <br>\n",
    "```list_colors[1]```?\n",
    "\n",
    "3. How do you concatenate two strings? \n",
    "4. What does the error \"not defined\" mean?\n",
    "5. What does the error \"could not be broadcast\" mean?\n",
    "6. How do you compute the median of an array?\n"
   ]
  },
  {
   "cell_type": "code",
   "execution_count": null,
   "metadata": {},
   "outputs": [],
   "source": [
    "# Write your answers here as comments:\n",
    "\n",
    "# 1.  List can store elements of different data types, while array stores elements of the same type.\n",
    "\n",
    "# 2. \"red\" \"yellow\"\n",
    "\n",
    "# 3. use the \"+\" operator\n",
    "\n",
    "# 4. It is because the variable is not defined, we can fix it through codes like \"x = 123\".\n",
    "\n",
    "# 5. It happens when you try to combine two arrays of different size.\n",
    "\n",
    "# 6. we can use codes like \"print(np.median(array))\"\n"
   ]
  },
  {
   "cell_type": "markdown",
   "metadata": {},
   "source": [
    "\n",
    "\n",
    "## Long Questions"
   ]
  },
  {
   "attachments": {},
   "cell_type": "markdown",
   "metadata": {},
   "source": [
    "<font size = \"5\">\n",
    "\n",
    "(a) Import the pandas, matplotlib, and numpy packages"
   ]
  },
  {
   "cell_type": "code",
   "execution_count": 1,
   "metadata": {},
   "outputs": [],
   "source": [
    "# Write your own code\n",
    "\n",
    "import pandas as pd\n",
    "import matplotlib.pyplot as plt\n",
    "import numpy as np"
   ]
  },
  {
   "attachments": {},
   "cell_type": "markdown",
   "metadata": {},
   "source": [
    "<font size = \"5\">\n",
    "\n",
    "(b) Open the dataset \"worldbank_wdi_2019.csv\" <br>\n",
    "in the \"data\" folder\n",
    "\n",
    "<font size = \"3\">\n",
    "\n",
    "- Read it as a pandas object called \"wdi\"\n",
    "- Note: This is a subset of the World Development Indicators for 2019\n",
    "- Each observation represents a different country"
   ]
  },
  {
   "cell_type": "code",
   "execution_count": 2,
   "metadata": {},
   "outputs": [],
   "source": [
    "# Write your own code\n",
    "\n",
    "wdi = pd.read_csv(\"data/worldbank_wdi_2019.csv\")\n"
   ]
  },
  {
   "attachments": {},
   "cell_type": "markdown",
   "metadata": {},
   "source": [
    "<font size = \"5\">\n",
    "\n",
    "(c) Browse the dataset and manually create <br>\n",
    "a list of variable names\n",
    "\n"
   ]
  },
  {
   "cell_type": "code",
   "execution_count": 3,
   "metadata": {},
   "outputs": [],
   "source": [
    "# Write your own code\n",
    "\n",
    "# Create a list, e.g. \"variable_names = [ \"name1\", \"name2\", \"name3\" ]\"\n",
    "# Manually type the names of the variables\n",
    "# If you're viewing the dataset from the VS-Code \"Variables\" tool, you'll\n",
    "# see an extra column \"index\". Do not include this in your list.\n",
    "\n",
    "\n",
    "variable_names = [\"year\",\"country_name\",\"life_expectancy\",\"gdp_per_capita_usd\"]\n"
   ]
  },
  {
   "attachments": {},
   "cell_type": "markdown",
   "metadata": {},
   "source": [
    "<font size = \"5\">\n",
    "\n",
    "(d) Compute descriptive statistics for the fourth <br>\n",
    "variable in the dataset\n",
    "\n",
    "<font size = \"3\">\n",
    "\n",
    "- One way to do this is:\n",
    "\n",
    "wdi[\"gdp_per_capita_usd\"].describe()\n",
    "\n",
    "- Do something similar, but with the list you created above.\n",
    "- Substitute \"gdp_per_capita_usd\" with a command that <br>\n",
    "automatically extracts the fourth element in the list"
   ]
  },
  {
   "cell_type": "code",
   "execution_count": 4,
   "metadata": {},
   "outputs": [
    {
     "data": {
      "application/vnd.microsoft.datawrangler.viewer.v0+json": {
       "columns": [
        {
         "name": "index",
         "rawType": "object",
         "type": "string"
        },
        {
         "name": "gdp_per_capita_usd",
         "rawType": "float64",
         "type": "float"
        }
       ],
       "ref": "fa10a42f-088a-4a11-9624-04f383522dc5",
       "rows": [
        [
         "count",
         "255.0"
        ],
        [
         "mean",
         "17230.94975652353"
        ],
        [
         "std",
         "25792.183785237947"
        ],
        [
         "min",
         "216.9729681"
        ],
        [
         "25%",
         "2186.0465815"
        ],
        [
         "50%",
         "6837.717826"
        ],
        [
         "75%",
         "19809.323135"
        ],
        [
         "max",
         "199377.4818"
        ]
       ],
       "shape": {
        "columns": 1,
        "rows": 8
       }
      },
      "text/plain": [
       "count       255.000000\n",
       "mean      17230.949757\n",
       "std       25792.183785\n",
       "min         216.972968\n",
       "25%        2186.046581\n",
       "50%        6837.717826\n",
       "75%       19809.323135\n",
       "max      199377.481800\n",
       "Name: gdp_per_capita_usd, dtype: float64"
      ]
     },
     "execution_count": 4,
     "metadata": {},
     "output_type": "execute_result"
    }
   ],
   "source": [
    "# Write your own code\n",
    "\n",
    "# Remember that the numbering in Python starts at zero\n",
    "# For example:\n",
    "# list_colors = [\"red\",\"green\",\"yellow\"]\n",
    "# list_colors[2] will output \"yellow\"\n",
    "\n",
    "\n",
    "wdi[variable_names[3]].describe()\n",
    "\n"
   ]
  },
  {
   "attachments": {},
   "cell_type": "markdown",
   "metadata": {},
   "source": [
    "<font size = \"5\">\n",
    "\n",
    "(e) Show a scatter plot that shows \"gdp_per_capita_usd\" <br>\n",
    "in the x-axis and \"lifexpectancy\" in the y-axis. Label the axes."
   ]
  },
  {
   "cell_type": "code",
   "execution_count": 6,
   "metadata": {},
   "outputs": [
    {
     "data": {
      "image/png": "[encoded data removed]",
      "text/plain": [
       "<Figure size 640x480 with 1 Axes>"
      ]
     },
     "metadata": {},
     "output_type": "display_data"
    }
   ],
   "source": [
    "# Write your own code\n",
    "plt.scatter(x = wdi[\"gdp_per_capita_usd\"], y = wdi[\"life_expectancy\"])\n",
    "plt.xlabel(\"gdp per capita in us dollars\")\n",
    "plt.ylabel(\"life expectancy\")\n",
    "plt.show()"
   ]
  },
  {
   "cell_type": "markdown",
   "metadata": {},
   "source": [
    "<font size = \"5\">\n",
    "\n",
    "(f) Generate \"vec_x\" from a chi-square <br>\n",
    "distribution with (df = 1, size = 1000)\n",
    "\n",
    "<font size = \"3\">\n",
    "\n",
    "- Plot a histogram of each variable, with axis labels, and title\n",
    "- Create a new variable \"vec_y\" by the formula <br>\n",
    "$ y = e^x + 2x + 5$\n",
    "- Plot \"vec_x\" against \"vec_y\" and label the axes"
   ]
  },
  {
   "cell_type": "code",
   "execution_count": 8,
   "metadata": {},
   "outputs": [
    {
     "data": {
      "text/plain": [
       "Text(0, 0.5, 'Frequency')"
      ]
     },
     "execution_count": 8,
     "metadata": {},
     "output_type": "execute_result"
    },
    {
     "data": {
      "image/png": "[encoded data removed]",
      "text/plain": [
       "<Figure size 640x480 with 1 Axes>"
      ]
     },
     "metadata": {},
     "output_type": "display_data"
    }
   ],
   "source": [
    "# Write your own code\n",
    "\n",
    "vec_x = np.random.chisquare(df=1,size= 1000)\n",
    "\n",
    "plt.hist(x = vec_x)\n",
    "plt.xlabel(\"Variable x\")\n",
    "plt.ylabel(\"Frequency\")\n",
    "\n"
   ]
  },
  {
   "cell_type": "markdown",
   "metadata": {},
   "source": [
    "<font size = \"5\">\n",
    "\n",
    "(g) Research online how to create an array with <br>\n",
    "```size = 1000``` entries, with all entries equal to one.\n",
    "\n",
    "<font size = \"3\">\n",
    "\n",
    "- Create a new matrix, ```X_mat``` that appends a <br>\n",
    "vector with only ones and \"vec_x\" from question (f) to form <br>\n",
    "a matrix with two columns and 1000 rows\n",
    "- Compute $(X_{mat}'X_{mat})^{-1}$"
   ]
  },
  {
   "cell_type": "code",
   "execution_count": 12,
   "metadata": {},
   "outputs": [
    {
     "name": "stdout",
     "output_type": "stream",
     "text": [
      "2276351.110986681\n",
      "[[ 0.0014469  -0.00044308]\n",
      " [-0.00044308  0.0004393 ]]\n"
     ]
    }
   ],
   "source": [
    "# Write your own code\n",
    "\n",
    "arr = np.ones(1000)\n",
    "x_mat = np.column_stack([arr,vec_x])\n",
    "x_mat_prime = np.matrix.transpose(x_mat)\n",
    "y = np.matmul(x_mat_prime,x_mat)\n",
    "print(np.linalg.det(y))\n",
    "\n",
    "y_inv = np.linalg.inv(y)\n",
    "\n",
    "# Output the result\n",
    "print(y_inv)\n"
   ]
  }
 ],
 "metadata": {
  "kernelspec": {
   "display_name": "base",
   "language": "python",
   "name": "python3"
  },
  "language_info": {
   "codemirror_mode": {
    "name": "ipython",
    "version": 3
   },
   "file_extension": ".py",
   "mimetype": "text/x-python",
   "name": "python",
   "nbconvert_exporter": "python",
   "pygments_lexer": "ipython3",
   "version": "3.13.5"
  },
  "orig_nbformat": 4
 },
 "nbformat": 4,
 "nbformat_minor": 2
}
