{
 "cells": [
  {
   "cell_type": "code",
   "execution_count": 1,
   "id": "847dd8ed",
   "metadata": {},
   "outputs": [],
   "source": [
    "import numpy as np\n",
    "import pandas as pd"
   ]
  },
  {
   "cell_type": "markdown",
   "id": "1af6fc2c",
   "metadata": {},
   "source": [
    "# Question a\n",
    "\n",
    "\"constructor_results\" dataset has points and constructor Id and race Id, so we need \"races\" to select the races from 1981 to 2020 and \"constructors\" to get the name of constructors"
   ]
  },
  {
   "cell_type": "code",
   "execution_count": 17,
   "id": "5ec6f6d8",
   "metadata": {},
   "outputs": [],
   "source": [
    "constructor_results = pd.read_csv(\"data_raw/constructor_results.csv\")\n",
    "races = pd.read_csv(\"data_raw/races.csv\")\n",
    "constructors = pd.read_csv(\"data_raw/constructors.csv\")"
   ]
  },
  {
   "cell_type": "code",
   "execution_count": 18,
   "id": "3b0f6021",
   "metadata": {},
   "outputs": [
    {
     "name": "stdout",
     "output_type": "stream",
     "text": [
      "       constructorResultsId  raceId  constructorId  points status  year\n",
      "0                         1      18              1    14.0     \\N  2008\n",
      "1                         2      18              2     8.0     \\N  2008\n",
      "2                         3      18              3     9.0     \\N  2008\n",
      "3                         4      18              4     5.0     \\N  2008\n",
      "4                         5      18              5     2.0     \\N  2008\n",
      "...                     ...     ...            ...     ...    ...   ...\n",
      "12165                 16665    1096            117     5.0     \\N  2022\n",
      "12166                 16666    1096            213     0.0     \\N  2022\n",
      "12167                 16667    1096             51     0.0     \\N  2022\n",
      "12168                 16668    1096              3     0.0     \\N  2022\n",
      "12169                 16669    1096            210     0.0     \\N  2022\n",
      "\n",
      "[12170 rows x 6 columns]\n",
      "       constructorResultsId  raceId  constructorId  points status  year  \\\n",
      "0                         1      18              1    14.0     \\N  2008   \n",
      "1                         2      18              2     8.0     \\N  2008   \n",
      "2                         3      18              3     9.0     \\N  2008   \n",
      "3                         4      18              4     5.0     \\N  2008   \n",
      "4                         5      18              5     2.0     \\N  2008   \n",
      "...                     ...     ...            ...     ...    ...   ...   \n",
      "12165                 16665    1096            117     5.0     \\N  2022   \n",
      "12166                 16666    1096            213     0.0     \\N  2022   \n",
      "12167                 16667    1096             51     0.0     \\N  2022   \n",
      "12168                 16668    1096              3     0.0     \\N  2022   \n",
      "12169                 16669    1096            210     0.0     \\N  2022   \n",
      "\n",
      "               name  \n",
      "0           McLaren  \n",
      "1        BMW Sauber  \n",
      "2          Williams  \n",
      "3           Renault  \n",
      "4        Toro Rosso  \n",
      "...             ...  \n",
      "12165  Aston Martin  \n",
      "12166    AlphaTauri  \n",
      "12167    Alfa Romeo  \n",
      "12168      Williams  \n",
      "12169  Haas F1 Team  \n",
      "\n",
      "[12170 rows x 7 columns]\n"
     ]
    }
   ],
   "source": [
    "merged = pd.merge(\n",
    "    constructor_results,\n",
    "    races[['raceId', 'year']],\n",
    "    on=\"raceId\",   \n",
    "    how=\"left\"           \n",
    ")\n",
    "print(merged)\n",
    "\n",
    "merged2 = pd.merge(\n",
    "    merged,\n",
    "    constructors[[\"constructorId\", \"name\"]],\n",
    "    on=\"constructorId\",   \n",
    "    how=\"left\"           \n",
    ")\n",
    "print(merged2)"
   ]
  },
  {
   "cell_type": "code",
   "execution_count": 19,
   "id": "ee02b784",
   "metadata": {},
   "outputs": [
    {
     "name": "stdout",
     "output_type": "stream",
     "text": [
      "            total_points\n",
      "name                    \n",
      "Ferrari           7374.0\n",
      "Mercedes          5685.0\n",
      "McLaren           5229.5\n",
      "Red Bull          5043.5\n",
      "Williams          3355.0\n",
      "...                  ...\n",
      "RAM                  0.0\n",
      "Spyker MF1           0.0\n",
      "Spirit               0.0\n",
      "Simtek               0.0\n",
      "Virgin               0.0\n",
      "\n",
      "[67 rows x 1 columns]\n"
     ]
    }
   ],
   "source": [
    "subset = merged2.query(\"1981 <= year <= 2020\")\n",
    "\n",
    "agg_points = (subset.groupby(\"name\")\n",
    "                     .agg(total_points=(\"points\", \"sum\")))\n",
    "\n",
    "\n",
    "agg_points = agg_points.sort_values(by=\"total_points\",ascending=False )\n",
    "print(agg_points)"
   ]
  },
  {
   "cell_type": "code",
   "execution_count": 21,
   "id": "81b13ad8",
   "metadata": {},
   "outputs": [
    {
     "name": "stdout",
     "output_type": "stream",
     "text": [
      "532.2388059701492\n"
     ]
    }
   ],
   "source": [
    "avg_points = agg_points[\"total_points\"].mean()\n",
    "print(avg_points)"
   ]
  },
  {
   "cell_type": "markdown",
   "id": "4329a0ab",
   "metadata": {},
   "source": [
    "TOP3: Ferrari           7374.0  \n",
    "\n",
    "Mercedes          5685.0\n",
    "\n",
    "McLaren           5229.5\n",
    "\n",
    "average points 532.2388\n",
    "\n",
    "The top3 points are much higher than average"
   ]
  },
  {
   "cell_type": "markdown",
   "id": "4649e3b5",
   "metadata": {},
   "source": [
    "# Question b\n",
    "\n",
    "same as part a"
   ]
  },
  {
   "cell_type": "code",
   "execution_count": 22,
   "id": "15503f4b",
   "metadata": {},
   "outputs": [
    {
     "name": "stdout",
     "output_type": "stream",
     "text": [
      "                total_points\n",
      "name                        \n",
      "Ferrari               5862.0\n",
      "Mercedes              5685.0\n",
      "Red Bull              5043.5\n",
      "McLaren               3284.0\n",
      "Williams              1535.5\n",
      "Renault               1465.0\n",
      "Force India           1098.0\n",
      "Lotus F1               706.0\n",
      "Toro Rosso             500.0\n",
      "Sauber                 467.0\n",
      "BMW Sauber             308.0\n",
      "Racing Point           283.0\n",
      "Toyota                 278.5\n",
      "BAR                    207.0\n",
      "Haas F1 Team           200.0\n",
      "Brawn                  172.0\n",
      "AlphaTauri             107.0\n",
      "Honda                  106.0\n",
      "Alfa Romeo              65.0\n",
      "Jordan                  58.0\n",
      "Jaguar                  45.0\n",
      "Benetton                10.0\n",
      "Minardi                 10.0\n",
      "Prost                    4.0\n",
      "Super Aguri              4.0\n",
      "Arrows                   3.0\n",
      "Marussia                 2.0\n",
      "Manor Marussia           1.0\n",
      "Spyker                   1.0\n",
      "Caterham                 0.0\n",
      "HRT                      0.0\n",
      "MF1                      0.0\n",
      "Lotus                    0.0\n",
      "Spyker MF1               0.0\n",
      "Virgin                   0.0\n"
     ]
    }
   ],
   "source": [
    "subset2 = merged2.query(\"2001 <= year <= 2020\")\n",
    "\n",
    "agg_points2 = (subset2.groupby(\"name\")\n",
    "                     .agg(total_points=(\"points\", \"sum\")))\n",
    "\n",
    "\n",
    "agg_points2 = agg_points2.sort_values(by=\"total_points\",ascending=False )\n",
    "print(agg_points2)"
   ]
  },
  {
   "cell_type": "code",
   "execution_count": 23,
   "id": "f899409c",
   "metadata": {},
   "outputs": [
    {
     "name": "stdout",
     "output_type": "stream",
     "text": [
      "786.0142857142857\n"
     ]
    }
   ],
   "source": [
    "avg_points2 = agg_points2[\"total_points\"].mean()\n",
    "print(avg_points2)"
   ]
  },
  {
   "cell_type": "markdown",
   "id": "9ab5b460",
   "metadata": {},
   "source": [
    "TOP3\n",
    "\n",
    "Ferrari               5862.0\n",
    "\n",
    "Mercedes              5685.0\n",
    "\n",
    "Red Bull              5043.5\n",
    "\n",
    "average     786.0\n",
    "\n",
    "The top3 points are still much higher than average\n"
   ]
  },
  {
   "cell_type": "markdown",
   "id": "74967002",
   "metadata": {},
   "source": [
    "# Question c\n",
    "\n",
    "It is easy to find out that Ferrari and Mercedes are #1 and #2, but the third place changed from McLaren in the 1st period  to Red Bull in the 2nd period"
   ]
  },
  {
   "cell_type": "markdown",
   "id": "d4ce522e",
   "metadata": {},
   "source": [
    "# Question d\n",
    "\n",
    "to get driver id, we need to use \"results\" dataset"
   ]
  },
  {
   "cell_type": "code",
   "execution_count": 24,
   "id": "cc608fd5",
   "metadata": {},
   "outputs": [],
   "source": [
    "results = pd.read_csv(\"data_raw/results.csv\")"
   ]
  },
  {
   "cell_type": "code",
   "execution_count": 33,
   "id": "eb4ae88f",
   "metadata": {},
   "outputs": [
    {
     "name": "stdout",
     "output_type": "stream",
     "text": [
      "6\n"
     ]
    }
   ],
   "source": [
    "ferrari_id = constructors.query(\"name == 'Ferrari'\")[\"constructorId\"].iloc[0]\n",
    "print(ferrari_id)\n",
    "\n"
   ]
  },
  {
   "cell_type": "code",
   "execution_count": 37,
   "id": "b1efbf43",
   "metadata": {},
   "outputs": [
    {
     "name": "stdout",
     "output_type": "stream",
     "text": [
      "[  8  13  30  22  56  63  77  55  78 122 117  81  95  69  21 105 140 163\n",
      " 175 202 203 207   4  20 844]\n"
     ]
    },
    {
     "data": {
      "text/plain": [
       "25"
      ]
     },
     "execution_count": 37,
     "metadata": {},
     "output_type": "execute_result"
    }
   ],
   "source": [
    "ferrari_results = (results[results[\"constructorId\"] == ferrari_id]\n",
    "                   .merge(races[[\"raceId\", \"year\"]], on=\"raceId\", how=\"left\")\n",
    "                   .query(\"1981 <= year <= 2020\"))\n",
    "\n",
    "ferrari_driver_ids = ferrari_results[\"driverId\"].unique()\n",
    "\n",
    "print(ferrari_driver_ids)\n",
    "len(ferrari_driver_ids)"
   ]
  },
  {
   "cell_type": "markdown",
   "id": "f979b83e",
   "metadata": {},
   "source": [
    "so there are 25 drivers"
   ]
  },
  {
   "cell_type": "markdown",
   "id": "616963ab",
   "metadata": {},
   "source": [
    " # question e "
   ]
  },
  {
   "cell_type": "code",
   "execution_count": 40,
   "id": "962ba8b3",
   "metadata": {},
   "outputs": [
    {
     "name": "stdout",
     "output_type": "stream",
     "text": [
      "    year  season_points\n",
      "37  2018          571.0\n"
     ]
    }
   ],
   "source": [
    "standings = pd.read_csv(\"data_raw/constructor_standings.csv\") \n",
    "stg = standings.merge(races[[\"raceId\", \"year\"]], on=\"raceId\", how=\"left\")\n",
    "\n",
    "stg_ferrari = stg.query(\"constructorId == @ferrari_id and 1981 <= year <= 2020\")\n",
    "\n",
    "ferrari_season_points = (\n",
    "    stg_ferrari.groupby(\"year\", as_index=False)\n",
    "               .agg(season_points=(\"points\", \"max\"))\n",
    "               .sort_values(\"year\")\n",
    ")\n",
    "\n",
    "max_pts = ferrari_season_points[\"season_points\"].max()\n",
    "best_years = ferrari_season_points[ferrari_season_points[\"season_points\"] == max_pts]\n",
    "print(best_years)  "
   ]
  }
 ],
 "metadata": {
  "kernelspec": {
   "display_name": "base",
   "language": "python",
   "name": "python3"
  },
  "language_info": {
   "codemirror_mode": {
    "name": "ipython",
    "version": 3
   },
   "file_extension": ".py",
   "mimetype": "text/x-python",
   "name": "python",
   "nbconvert_exporter": "python",
   "pygments_lexer": "ipython3",
   "version": "3.13.5"
  }
 },
 "nbformat": 4,
 "nbformat_minor": 5
}
