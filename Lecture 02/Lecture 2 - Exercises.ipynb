{
 "cells": [
  {
   "attachments": {},
   "cell_type": "markdown",
   "metadata": {},
   "source": [
    "# Lecture 2 Exercises"
   ]
  },
  {
   "cell_type": "markdown",
   "metadata": {},
   "source": [
    "\n",
    "\n",
    "## Short Questions\n",
    "\n",
    "<font size = \"5\">\n",
    "\n",
    "1. How do you check whether an element is part of a list?\n",
    "2. How do you reference a global variable in ```.query()```?\n"
   ]
  },
  {
   "cell_type": "code",
   "execution_count": null,
   "metadata": {},
   "outputs": [],
   "source": [
    "# Write your answers here as comments:\n",
    "\n",
    "# 1. Use the \"in\" operator, like \"print(current_colar in color_list)\"\n",
    "\n",
    "# 2. Use codes like df.query(\"variable >= @threshold\") \n"
   ]
  },
  {
   "cell_type": "markdown",
   "metadata": {},
   "source": [
    "\n",
    "\n",
    "## Long Questions"
   ]
  },
  {
   "attachments": {},
   "cell_type": "markdown",
   "metadata": {},
   "source": [
    "<font size = \"5\">\n",
    "\n",
    "Import the pandas and matplotlib packages"
   ]
  },
  {
   "cell_type": "code",
   "execution_count": 1,
   "metadata": {},
   "outputs": [],
   "source": [
    "# Write your own code\n",
    "\n",
    "import pandas as pd\n",
    "import matplotlib.pyplot as plt\n"
   ]
  },
  {
   "cell_type": "markdown",
   "metadata": {},
   "source": [
    "<font size = \"5\">\n",
    "\n",
    "(a) Checking a string condition\n",
    "\n",
    "<font size = \"3\">\n",
    "\n",
    "- Define a variable \"fruit\" with the value \"apple\"\n",
    "- Define a list\n",
    "\n",
    "list_fruits = [\"banana\",\"orange\",\"apple\"]\n",
    "- Write an expression to test whether \"fruit\" is contained in \"list_fruits\"\n",
    "\n",
    "Hint: Use the \"in\" command. The final output should be True/False.\n",
    "\n",
    "To get full points run all of the above commands\n"
   ]
  },
  {
   "cell_type": "code",
   "execution_count": 2,
   "metadata": {},
   "outputs": [
    {
     "name": "stdout",
     "output_type": "stream",
     "text": [
      "True\n"
     ]
    }
   ],
   "source": [
    "# Write your own code\n",
    "\n",
    "fruit = \"apple\"\n",
    "list_fruits = [\"banana\",\"orange\",\"apple\"]\n",
    "print(fruit in list_fruits)\n"
   ]
  },
  {
   "cell_type": "markdown",
   "metadata": {},
   "source": [
    "<font size = \"5\">\n",
    "\n",
    "(b) Classifying a variable\n",
    "\n",
    "<font size = \"3\">\n",
    "\n",
    "- Define a new variable \"year\" an assign the value \"2008\"\n",
    "- Write an if/else statement that does the following\n",
    "    - print(\"Year 2000 or earlier\") if the year is less than or equal to  2000.\n",
    "    - print(\"Between 2001 and 2005\") if the year is between 2001 and 2005.\n",
    "    - print(\"Year 2006 or later\") if the year is after 2005.\n",
    "\n",
    "To get full points you must do all of the above instructions\n"
   ]
  },
  {
   "cell_type": "code",
   "execution_count": 4,
   "metadata": {},
   "outputs": [
    {
     "name": "stdout",
     "output_type": "stream",
     "text": [
      "Year 2006 or later\n"
     ]
    }
   ],
   "source": [
    "# Write your own code\n",
    "\n",
    "year = 2008\n",
    "\n",
    "if year <= 2000:\n",
    "    print(\"Year 2000 or earlier\")\n",
    "\n",
    "elif 2001 <= year <= 2005:\n",
    "    print(\"Between 2001 and 2005\")\n",
    "    \n",
    "else:\n",
    "    print(\"Year 2006 or later\")"
   ]
  },
  {
   "cell_type": "markdown",
   "metadata": {},
   "source": [
    "<font size = \"5\">\n",
    "\n",
    "(c) Split a dataset into subsets\n",
    "\n",
    "<font size = \"3\">\n",
    "\n",
    "- Create ``` list_status = [0,1]```\n",
    "- Create ``` list_prob = [0.5, 0.5]```\n",
    "- Create a new variable $n = 1000$ with the number of rows of the dataset\n",
    "- Use \n",
    "```python\n",
    "    np.random.choice(list_status,\n",
    "                     size = n,\n",
    "                     p = list_prob)\n",
    "```\n",
    "$\\qquad$ to create a new column called \"status\" <br>\n",
    "$\\qquad$ which randomly assigns each row to \"0\" or \"1\" <br>\n",
    "$\\qquad$ with equal probability\n",
    "- Use .query() to subset all observations with status == 0.<br>\n",
    "store it in a new dataset called \"data0\"\n",
    "- Use .query() to subset all observations with status == 1.<br>\n",
    "store it in a new dataset called \"data1\"\n",
    "\n"
   ]
  },
  {
   "cell_type": "code",
   "execution_count": 7,
   "metadata": {},
   "outputs": [],
   "source": [
    "# Write your own code\n",
    "import numpy as np\n",
    "\n",
    "list_status = [0,1]\n",
    "list_prob =[0.5, 0.5]\n",
    "n=1000\n",
    "df = pd.DataFrame({\n",
    "    \"id\": range(1, n+1)   \n",
    "})\n",
    "df[\"status\"] = np.random.choice(list_status, size= n, p = list_prob)\n",
    "\n",
    "data0 = df.query(\"status == 0\")\n",
    "data1 = df.query(\"status == 1\")\n"
   ]
  },
  {
   "cell_type": "markdown",
   "metadata": {},
   "source": [
    "<font size = \"5\">\n",
    "\n",
    "For questions (d) through (f) mport the dataset <br>\n",
    " \"data_raw/fifa23_players_basic.csv\"\n",
    "\n",
    "<font size = \"3\">\n",
    "\n",
    "- It's a dataset on professional soccer players\n",
    "- Rows correspond to players (18,539)\n",
    "- Columns contain attributes of players (32)\n",
    "- Try to view the dataset before starting"
   ]
  },
  {
   "cell_type": "code",
   "execution_count": 8,
   "metadata": {},
   "outputs": [],
   "source": [
    "# Write your own code\n",
    "\n",
    "fifa = pd.read_csv(\"data_raw/fifa23_players_basic.csv\")\n",
    "\n"
   ]
  },
  {
   "cell_type": "markdown",
   "metadata": {},
   "source": [
    "<font size = \"5\">\n",
    "\n",
    "(d) Create a new dataset subsetting the <br>\n",
    "players whose age is less than 20"
   ]
  },
  {
   "cell_type": "code",
   "execution_count": 10,
   "metadata": {},
   "outputs": [
    {
     "name": "stdout",
     "output_type": "stream",
     "text": [
      "['Known As' 'Full Name' 'Overall' 'Potential' 'Value(in Euro)'\n",
      " 'Positions Played' 'Best Position' 'Nationality' 'Image Link' 'Age'\n",
      " 'Height(in cm)' 'Weight(in kg)' 'TotalStats' 'BaseStats' 'Club Name'\n",
      " 'Wage(in Euro)' 'Release Clause' 'Club Position' 'Contract Until'\n",
      " 'Club Jersey Number' 'Joined On' 'On Loan' 'Preferred Foot'\n",
      " 'Weak Foot Rating' 'Skill Moves' 'International Reputation'\n",
      " 'National Team Name' 'National Team Image Link' 'National Team Position'\n",
      " 'National Team Jersey Number' 'Attacking Work Rate' 'Defensive Work Rate']\n"
     ]
    }
   ],
   "source": [
    "# Write your own code\n",
    "fifa_colnames = fifa.columns.values\n",
    "print(fifa_colnames)\n",
    "\n",
    "fifa_u20 = fifa.query(\"Age < 20\")\n",
    "\n",
    "\n"
   ]
  },
  {
   "cell_type": "markdown",
   "metadata": {},
   "source": [
    "<font size = \"5\">\n",
    "\n",
    "(e) Use queries + global variables\n",
    "\n",
    "<font size = \"3\">\n",
    "\n",
    "- Compute the mean of the column \"Value(in Euro)\" <br>\n",
    "and store it as a variable\n",
    "- Subset the players whose value is above the mean value <br>\n",
    "  using \".query()\"\n",
    "\n",
    "\n",
    "HINT: Remember that there is a special syntax for <br>\n",
    "when the column names have spaces (see Lecture 10) <br>\n",
    "Reference the column as ``` `Value(in Euro)`    ``` inside .query()"
   ]
  },
  {
   "cell_type": "code",
   "execution_count": null,
   "metadata": {},
   "outputs": [],
   "source": [
    "# Write your own code\n",
    "\n",
    "mean_value = fifa[\"Value(in Euro)\"].mean()\n",
    "\n",
    "fifa_above_mean = fifa.query(\"`Value(in Euro)` > @mean_value\")\n",
    "\n"
   ]
  },
  {
   "cell_type": "markdown",
   "metadata": {},
   "source": [
    "<font size = \"5\">\n",
    "\n",
    "(f) Use sorting + \".iloc[]\"\n",
    "\n",
    "<font size = \"3\">\n",
    "\n",
    "- Use \".sort_values()\" to order the \"Age\" column <br>\n",
    "from youngest to oldest\n",
    "- Get a subset with the 5 youngest players"
   ]
  },
  {
   "cell_type": "code",
   "execution_count": 19,
   "metadata": {},
   "outputs": [
    {
     "name": "stdout",
     "output_type": "stream",
     "text": [
      "          Known As         Full Name  Overall  Potential  Value(in Euro)  \\\n",
      "18425    M. Moraru      Matei Moraru       50         72          150000   \n",
      "18232    B. Faraas   Benjamin Faraas       51         76          180000   \n",
      "18284   D. Lipsiuc    Darius Lipsiuc       51         65          130000   \n",
      "18014    J. Ardila       José Ardila       53         73          250000   \n",
      "16880  M. Kowalski  Mateusz Kowalski       56         75          350000   \n",
      "\n",
      "      Positions Played Best Position          Nationality  \\\n",
      "18425            CM,RW           CAM              Romania   \n",
      "18232               CM           CAM               Norway   \n",
      "18284              CAM           CAM  Republic of Ireland   \n",
      "18014               CM           CAM            Venezuela   \n",
      "16880               ST            ST               Poland   \n",
      "\n",
      "                                             Image Link  Age  ...  \\\n",
      "18425  https://cdn.sofifa.net/players/271/182/23_60.png   16  ...   \n",
      "18232  https://cdn.sofifa.net/players/271/433/23_60.png   16  ...   \n",
      "18284  https://cdn.sofifa.net/players/268/281/23_60.png   16  ...   \n",
      "18014  https://cdn.sofifa.net/players/268/892/23_60.png   16  ...   \n",
      "16880  https://cdn.sofifa.net/players/270/716/23_60.png   16  ...   \n",
      "\n",
      "       Preferred Foot  Weak Foot Rating  Skill Moves  \\\n",
      "18425           Right                 2            2   \n",
      "18232           Right                 2            2   \n",
      "18284           Right                 3            2   \n",
      "18014           Right                 3            2   \n",
      "16880           Right                 2            2   \n",
      "\n",
      "       International Reputation National Team Name  \\\n",
      "18425                         1                  -   \n",
      "18232                         1                  -   \n",
      "18284                         1                  -   \n",
      "18014                         1                  -   \n",
      "16880                         1                  -   \n",
      "\n",
      "                  National Team Image Link  National Team Position  \\\n",
      "18425  https://cdn.sofifa.net/flags/ro.png                       -   \n",
      "18232  https://cdn.sofifa.net/flags/no.png                       -   \n",
      "18284                                    -                       -   \n",
      "18014  https://cdn.sofifa.net/flags/ve.png                       -   \n",
      "16880  https://cdn.sofifa.net/flags/pl.png                       -   \n",
      "\n",
      "      National Team Jersey Number Attacking Work Rate Defensive Work Rate  \n",
      "18425                           -              Medium              Medium  \n",
      "18232                           -              Medium              Medium  \n",
      "18284                           -              Medium              Medium  \n",
      "18014                           -              Medium              Medium  \n",
      "16880                           -                High              Medium  \n",
      "\n",
      "[5 rows x 32 columns]\n"
     ]
    }
   ],
   "source": [
    "# Write your own code\n",
    "\n",
    "\n",
    "fifa_sorted = fifa.sort_values(by= \"Age\", ascending=True)\n",
    "\n",
    "fifa_youngest5 = fifa_sorted.iloc[:5]\n",
    "\n",
    "print(fifa_youngest5)"
   ]
  },
  {
   "cell_type": "markdown",
   "metadata": {},
   "source": [
    "<font size = \"5\">\n",
    "For questions (h)-(i), read \"data_raw/wdi_2020.csv\" <br>\n",
    "This is a dataset of countries from <br>\n",
    "the World Development Indicators"
   ]
  },
  {
   "cell_type": "markdown",
   "metadata": {},
   "source": [
    "<font size = \"5\">\n",
    "\n",
    "(g) Extract sorted elements from a dataset\n",
    "\n",
    "<font size = \"3\">\n",
    "\n",
    "- Sort by \"prop_urbanpopulation\" in descending order\n",
    "- Subset the 5 countries with the highest urban population"
   ]
  },
  {
   "cell_type": "code",
   "execution_count": 20,
   "metadata": {},
   "outputs": [
    {
     "name": "stdout",
     "output_type": "stream",
     "text": [
      "['year' 'yearcode' 'countryname' 'countrycode' 'prop_urbanpopulation']\n",
      "     year yearcode                countryname countrycode  \\\n",
      "213  2020   YR2020  Sint Maarten (Dutch part)         SXM   \n",
      "24   2020   YR2020                    Bermuda         BMU   \n",
      "103  2020   YR2020       Hong Kong SAR, China         HKG   \n",
      "90   2020   YR2020                  Gibraltar         GIB   \n",
      "212  2020   YR2020                  Singapore         SGP   \n",
      "\n",
      "     prop_urbanpopulation  \n",
      "213                 100.0  \n",
      "24                  100.0  \n",
      "103                 100.0  \n",
      "90                  100.0  \n",
      "212                 100.0  \n"
     ]
    }
   ],
   "source": [
    "# Write your own code\n",
    "\n",
    "wdi = pd.read_csv(\"data_raw/wdi_2020.csv\")\n",
    "\n",
    "wdi_colnames = wdi.columns.values\n",
    "print(wdi_colnames)\n",
    "\n",
    "wdi_sorted = wdi.sort_values(by= \"prop_urbanpopulation\",ascending=False )\n",
    "\n",
    "wdi_highest5urban = wdi_sorted.iloc[:5]\n",
    "\n",
    "print(wdi_highest5urban)"
   ]
  },
  {
   "cell_type": "markdown",
   "metadata": {},
   "source": [
    "<font size = \"5\">\n",
    "\n",
    "(h) Subset elements with query\n",
    "\n",
    "<font size = \"3\">\n",
    "\n",
    "- Compute the median of \"prop_urbanpopulation\"\n",
    "- Use \".query()\" to subset countries with <br>\n",
    " \"prop_urbanpopulation\" above the median"
   ]
  },
  {
   "cell_type": "code",
   "execution_count": 21,
   "metadata": {},
   "outputs": [],
   "source": [
    "# Write your own code\n",
    "\n",
    "\n",
    "mean_value_urban = wdi[\"prop_urbanpopulation\"].mean()\n",
    "\n",
    "wdi_above_mean = wdi.query(\"prop_urbanpopulation > @mean_value_urban\")\n"
   ]
  },
  {
   "cell_type": "markdown",
   "metadata": {},
   "source": [
    "<font size = \"5\">\n",
    "\n",
    "(i) Plot by category\n",
    "\n",
    "<font size = \"3\">\n",
    "\n",
    "- Read \"data_raw/wdi_urban.csv\"<br>\n",
    "This contains data from 1980 and 2020\n",
    "\n",
    "- Create a list with the unique values of \"year\"\n",
    "- Create a plot with a ...\n",
    "    - Histogram of \"prop_urbanpopulation\" <br>\n",
    "    for each year\n",
    "    - Set the histogram option ``` alpha = 0.5 ``` for transparency\n",
    "    - All the histograms should be overlapping\n",
    "    - Create a legend with the list of years\n",
    "    - Label the axes and the title\n",
    "\n",
    "What do we learn from the graph?\n",
    "\n",
    "HINT: See the example at the end of Lecture 10\n"
   ]
  },
  {
   "cell_type": "code",
   "execution_count": 24,
   "metadata": {},
   "outputs": [
    {
     "name": "stdout",
     "output_type": "stream",
     "text": [
      "[1980 2020]\n"
     ]
    },
    {
     "data": {
      "image/png": "[encoded data removed]",
      "text/plain": [
       "<Figure size 640x480 with 1 Axes>"
      ]
     },
     "metadata": {},
     "output_type": "display_data"
    }
   ],
   "source": [
    "# Write your own code\n",
    "\n",
    "\n",
    "wdi_urban = pd.read_csv(\"data_raw/wdi_urban.csv\")\n",
    "list_unique_year = pd.unique(wdi_urban[\"year\"])\n",
    "print(list_unique_year)\n",
    "\n",
    "for year in list_unique_year:\n",
    "    subset = wdi_urban.query(\"year == @year\")\n",
    "    plt.hist(\n",
    "        subset[\"prop_urbanpopulation\"],\n",
    "        alpha=0.5,        # transparency\n",
    "        label=str(year)   # legend label\n",
    "    )\n",
    "plt.xlabel(\"Proportion Urban Population\")\n",
    "plt.ylabel(\"Number of Countries\")\n",
    "plt.title(\"Distribution of Urban Population Proportion\")\n",
    "plt.legend(title=\"Year\")\n",
    "\n",
    "plt.show()"
   ]
  },
  {
   "cell_type": "markdown",
   "metadata": {},
   "source": [
    "# Review of last lecture\n"
   ]
  },
  {
   "cell_type": "markdown",
   "metadata": {},
   "source": [
    "<font size = \"5\">\n",
    "\n",
    "(k) Composite operations on arrays\n",
    "\n",
    "<font size = \"3\">\n",
    "\n",
    "- Define $r = 0.04$\n",
    "- Define two arrays $A$ and $T$ using \"np.array()\", assigning the following values\n",
    "\n",
    "$ a = \\begin{pmatrix} a_0 \\\\ a_1 \\\\ a_2 \\end{pmatrix} =  \\begin{pmatrix} 20 \\\\ 30 \\\\ 15 \\end{pmatrix},\n",
    "\\qquad  t = \\begin{pmatrix} t_0 \\\\ t_1 \\\\ t_2 \\end{pmatrix} = \\begin{pmatrix} 0 \\\\ 1 \\\\ 2 \\end{pmatrix} $\n",
    "\n",
    "- Use element-by-element vector operations to compute a new array $M$ of length 3:\n",
    "\n",
    "$ M = \\begin{pmatrix} a_1 / (1+r)^{t_0}  \\\\ a_2 / (1+r)^{t_1} \\\\ a_3 / (1+r)^{t_2} \\end{pmatrix} $\n",
    "\n",
    "- Compute the sum of the values of $M$ using \"M.sum()\"\n",
    "\n",
    "Note: I am using subscripts to denote the individual elements of $a$ and $t$.\n",
    "- In the code just enter the values of $a$ and $t$.\n",
    "- To get full points you must do all of the above tasks\n",
    "\n"
   ]
  },
  {
   "cell_type": "code",
   "execution_count": 28,
   "metadata": {},
   "outputs": [
    {
     "name": "stdout",
     "output_type": "stream",
     "text": [
      "[20.         28.84615385 13.8683432 ]\n",
      "62.71449704142012\n"
     ]
    }
   ],
   "source": [
    "# Write your own code\n",
    "\n",
    "\n",
    "r = 0.04\n",
    "\n",
    "A = np.array([20, 30, 15])\n",
    "T = np.array([0, 1, 2])\n",
    "\n",
    "M = A / (1 + r) ** T\n",
    "print(M)\n",
    "\n",
    "result = M.sum()\n",
    "\n",
    "print(result)"
   ]
  }
 ],
 "metadata": {
  "kernelspec": {
   "display_name": "base",
   "language": "python",
   "name": "python3"
  },
  "language_info": {
   "codemirror_mode": {
    "name": "ipython",
    "version": 3
   },
   "file_extension": ".py",
   "mimetype": "text/x-python",
   "name": "python",
   "nbconvert_exporter": "python",
   "pygments_lexer": "ipython3",
   "version": "3.13.5"
  },
  "orig_nbformat": 4
 },
 "nbformat": 4,
 "nbformat_minor": 2
}
