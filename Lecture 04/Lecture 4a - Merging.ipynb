{
 "cells": [
  {
   "attachments": {},
   "cell_type": "markdown",
   "metadata": {},
   "source": [
    "# <span style=\"color:darkblue\"> Lecture 4a - Merging Data </span>\n",
    "\n",
    "<font size = \"5\">\n",
    "\n",
    "In the previous class we covered ...\n",
    "\n",
    "- Aggregate Statistics\n",
    "- Merge aggregate stats\n",
    "\n",
    "In this class we will cover ...\n",
    "\n",
    "- More database merging!\n",
    "- Emphasize importance of cleaning before merging\n",
    "- Database concatenation"
   ]
  },
  {
   "attachments": {},
   "cell_type": "markdown",
   "metadata": {},
   "source": [
    "# <span style=\"color:darkblue\"> I. Import Libraries and Data </span>\n"
   ]
  },
  {
   "attachments": {},
   "cell_type": "markdown",
   "metadata": {},
   "source": [
    "<font size = \"5\">\n",
    "Key libraries"
   ]
  },
  {
   "cell_type": "code",
   "execution_count": 1,
   "metadata": {},
   "outputs": [],
   "source": [
    "import numpy as np\n",
    "import pandas as pd\n",
    "import matplotlib.pyplot as plt"
   ]
  },
  {
   "attachments": {},
   "cell_type": "markdown",
   "metadata": {},
   "source": [
    "<font size = \"5\">\n",
    "\n",
    "Read dataset on car racing circuits\n",
    "\n",
    "- https://en.wikipedia.org/wiki/Formula_One <br>\n",
    "- [See Data Source](https://www.kaggle.com/datasets/rohanrao/formula-1-world-championship-1950-2020)"
   ]
  },
  {
   "cell_type": "code",
   "execution_count": 2,
   "metadata": {},
   "outputs": [],
   "source": [
    "results_raw  = pd.read_csv(\"data_raw/results.csv\")\n",
    "races_raw    = pd.read_csv(\"data_raw/races.csv\")\n",
    "circuits_raw = pd.read_csv(\"data_raw/circuits.csv\")"
   ]
  },
  {
   "attachments": {},
   "cell_type": "markdown",
   "metadata": {},
   "source": [
    "<font size = \"5\">\n",
    "\n",
    "Multi-file datasets can be visualized with an ...\n",
    "\n",
    "- \"Entity Relationship Diagram\" (ERD)\n",
    "- How the identifiers in each table are connected\n",
    "- Complement to the \"codebook\"\n",
    "\n",
    "<img src=\"figures/erd_f1_simple.png\" alt=\"drawing\" width=\"600\"/>\n"
   ]
  },
  {
   "attachments": {},
   "cell_type": "markdown",
   "metadata": {},
   "source": [
    "<font size = \"5\">\n",
    "\n",
    "Start by opening datasets!\n",
    "\n",
    "- Check columns with similar names"
   ]
  },
  {
   "cell_type": "code",
   "execution_count": 3,
   "metadata": {},
   "outputs": [],
   "source": [
    "# We extract all the unique values in races_raw[\"name\"] and circuits_raw[\"name\"]\n",
    "# We use \"sort_values()\" to make it easier to compare the variables\n",
    "# The \"codebook/f1_codebook.pdf\" file shows that the content is indeed different\n",
    "\n",
    "unique_data_races = pd.unique(races_raw[\"name\"].sort_values())\n",
    "unique_data_circuits = pd.unique(circuits_raw[\"name\"].sort_values())\n"
   ]
  },
  {
   "cell_type": "code",
   "execution_count": 4,
   "metadata": {},
   "outputs": [
    {
     "data": {
      "text/plain": [
       "array(['70th Anniversary Grand Prix', 'Abu Dhabi Grand Prix',\n",
       "       'Argentine Grand Prix', 'Australian Grand Prix',\n",
       "       'Austrian Grand Prix', 'Azerbaijan Grand Prix',\n",
       "       'Bahrain Grand Prix', 'Belgian Grand Prix', 'Brazilian Grand Prix',\n",
       "       'British Grand Prix', 'Caesars Palace Grand Prix',\n",
       "       'Canadian Grand Prix', 'Chinese Grand Prix', 'Dallas Grand Prix',\n",
       "       'Detroit Grand Prix', 'Dutch Grand Prix', 'Eifel Grand Prix',\n",
       "       'Emilia Romagna Grand Prix', 'European Grand Prix',\n",
       "       'French Grand Prix', 'German Grand Prix', 'Hungarian Grand Prix',\n",
       "       'Indian Grand Prix', 'Indianapolis 500', 'Italian Grand Prix',\n",
       "       'Japanese Grand Prix', 'Korean Grand Prix', 'Las Vegas Grand Prix',\n",
       "       'Luxembourg Grand Prix', 'Malaysian Grand Prix',\n",
       "       'Mexican Grand Prix', 'Mexico City Grand Prix', 'Miami Grand Prix',\n",
       "       'Monaco Grand Prix', 'Moroccan Grand Prix', 'Pacific Grand Prix',\n",
       "       'Pescara Grand Prix', 'Portuguese Grand Prix', 'Qatar Grand Prix',\n",
       "       'Russian Grand Prix', 'Sakhir Grand Prix', 'San Marino Grand Prix',\n",
       "       'Saudi Arabian Grand Prix', 'Singapore Grand Prix',\n",
       "       'South African Grand Prix', 'Spanish Grand Prix',\n",
       "       'Styrian Grand Prix', 'Swedish Grand Prix', 'Swiss Grand Prix',\n",
       "       'São Paulo Grand Prix', 'Turkish Grand Prix', 'Tuscan Grand Prix',\n",
       "       'United States Grand Prix', 'United States Grand Prix West'],\n",
       "      dtype=object)"
      ]
     },
     "execution_count": 4,
     "metadata": {},
     "output_type": "execute_result"
    }
   ],
   "source": [
    "unique_data_races"
   ]
  },
  {
   "cell_type": "code",
   "execution_count": 5,
   "metadata": {},
   "outputs": [
    {
     "data": {
      "text/plain": [
       "array(['AVUS', 'Adelaide Street Circuit', 'Ain Diab', 'Aintree',\n",
       "       'Albert Park Grand Prix Circuit', 'Autodromo Enzo e Dino Ferrari',\n",
       "       'Autodromo Internazionale del Mugello',\n",
       "       'Autodromo Nazionale di Monza', 'Autódromo Hermanos Rodríguez',\n",
       "       'Autódromo Internacional Nelson Piquet',\n",
       "       'Autódromo Internacional do Algarve', 'Autódromo José Carlos Pace',\n",
       "       'Autódromo Juan y Oscar Gálvez', 'Autódromo do Estoril',\n",
       "       'Bahrain International Circuit', 'Baku City Circuit',\n",
       "       'Brands Hatch', 'Buddh International Circuit', 'Charade Circuit',\n",
       "       'Circuit Bremgarten', 'Circuit Gilles Villeneuve',\n",
       "       'Circuit Mont-Tremblant', 'Circuit Park Zandvoort',\n",
       "       'Circuit Paul Ricard', 'Circuit de Barcelona-Catalunya',\n",
       "       'Circuit de Monaco', 'Circuit de Nevers Magny-Cours',\n",
       "       'Circuit de Pedralbes', 'Circuit de Spa-Francorchamps',\n",
       "       'Circuit of the Americas', 'Circuito da Boavista',\n",
       "       'Circuito de Jerez', 'Detroit Street Circuit', 'Dijon-Prenois',\n",
       "       'Donington Park', 'Fair Park', 'Fuji Speedway', 'Hockenheimring',\n",
       "       'Hungaroring', 'Indianapolis Motor Speedway', 'Istanbul Park',\n",
       "       'Jarama', 'Jeddah Corniche Circuit',\n",
       "       'Korean International Circuit', 'Kyalami',\n",
       "       'Las Vegas Street Circuit', 'Las Vegas Strip Street Circuit',\n",
       "       'Le Mans', 'Long Beach', 'Losail International Circuit',\n",
       "       'Marina Bay Street Circuit', 'Miami International Autodrome',\n",
       "       'Monsanto Park Circuit', 'Montjuïc',\n",
       "       'Mosport International Raceway', 'Nivelles-Baulers', 'Nürburgring',\n",
       "       'Okayama International Circuit', 'Pescara Circuit',\n",
       "       'Phoenix street circuit', 'Prince George Circuit', 'Red Bull Ring',\n",
       "       'Reims-Gueux', 'Riverside International Raceway',\n",
       "       'Rouen-Les-Essarts', 'Scandinavian Raceway',\n",
       "       'Sebring International Raceway', 'Sepang International Circuit',\n",
       "       'Shanghai International Circuit', 'Silverstone Circuit',\n",
       "       'Sochi Autodrom', 'Suzuka Circuit', 'Valencia Street Circuit',\n",
       "       'Watkins Glen', 'Yas Marina Circuit', 'Zeltweg', 'Zolder'],\n",
       "      dtype=object)"
      ]
     },
     "execution_count": 5,
     "metadata": {},
     "output_type": "execute_result"
    }
   ],
   "source": [
    "unique_data_circuits"
   ]
  },
  {
   "attachments": {},
   "cell_type": "markdown",
   "metadata": {},
   "source": [
    "# <span style=\"color:darkblue\"> II. Dictionaries + Renaming </span>"
   ]
  },
  {
   "attachments": {},
   "cell_type": "markdown",
   "metadata": {},
   "source": [
    "<font size = \"5\">\n",
    "\n",
    "A dictionary is another way to store data. \n",
    "\n",
    "- Defined with curly brackets \"{...}\"\n",
    "- Different fields are separated by a comma\n",
    "- Assign values to a field with a colon \":\""
   ]
  },
  {
   "attachments": {},
   "cell_type": "markdown",
   "metadata": {},
   "source": [
    "<font size = \"5\">\n",
    "\n",
    "Dictionaries + Pandas"
   ]
  },
  {
   "cell_type": "code",
   "execution_count": 6,
   "metadata": {},
   "outputs": [],
   "source": [
    "car_dictionary = {\"car_model\": [\"Ferrari\",\"Tesla\",\"BMW\"],\n",
    "                  \"year\": [\"2018\",\"2023\",\"2022\"]}"
   ]
  },
  {
   "cell_type": "code",
   "execution_count": 7,
   "metadata": {},
   "outputs": [
    {
     "data": {
      "text/plain": [
       "array([[1, 2, 3],\n",
       "       [4, 5, 7]])"
      ]
     },
     "execution_count": 7,
     "metadata": {},
     "output_type": "execute_result"
    }
   ],
   "source": [
    "np.array([[1,2,3], [4,5,7]])"
   ]
  },
  {
   "cell_type": "code",
   "execution_count": 8,
   "metadata": {},
   "outputs": [],
   "source": [
    "matrix_dict = {'A':np.array([[1,2,3], [2,4,5]]), 'string': 'ABC'}"
   ]
  },
  {
   "cell_type": "code",
   "execution_count": 9,
   "metadata": {},
   "outputs": [
    {
     "data": {
      "text/plain": [
       "array([[1, 2, 3],\n",
       "       [2, 4, 5]])"
      ]
     },
     "execution_count": 9,
     "metadata": {},
     "output_type": "execute_result"
    }
   ],
   "source": [
    "matrix_dict[\"A\"]"
   ]
  },
  {
   "cell_type": "code",
   "execution_count": 10,
   "metadata": {},
   "outputs": [
    {
     "data": {
      "text/plain": [
       "['Ferrari', 'Tesla', 'BMW']"
      ]
     },
     "execution_count": 10,
     "metadata": {},
     "output_type": "execute_result"
    }
   ],
   "source": [
    "car_dictionary['car_model']"
   ]
  },
  {
   "cell_type": "code",
   "execution_count": 11,
   "metadata": {},
   "outputs": [
    {
     "data": {
      "application/vnd.microsoft.datawrangler.viewer.v0+json": {
       "columns": [
        {
         "name": "index",
         "rawType": "int64",
         "type": "integer"
        },
        {
         "name": "car_model",
         "rawType": "object",
         "type": "string"
        },
        {
         "name": "year",
         "rawType": "object",
         "type": "string"
        }
       ],
       "ref": "a696d4ac-bc19-4586-8e1c-21ab4d31a08b",
       "rows": [
        [
         "0",
         "Ferrari",
         "2018"
        ],
        [
         "1",
         "Tesla",
         "2023"
        ],
        [
         "2",
         "BMW",
         "2022"
        ],
        [
         "3",
         "Something",
         "1993"
        ]
       ],
       "shape": {
        "columns": 2,
        "rows": 4
       }
      },
      "text/html": [
       "<div>\n",
       "<style scoped>\n",
       "    .dataframe tbody tr th:only-of-type {\n",
       "        vertical-align: middle;\n",
       "    }\n",
       "\n",
       "    .dataframe tbody tr th {\n",
       "        vertical-align: top;\n",
       "    }\n",
       "\n",
       "    .dataframe thead th {\n",
       "        text-align: right;\n",
       "    }\n",
       "</style>\n",
       "<table border=\"1\" class=\"dataframe\">\n",
       "  <thead>\n",
       "    <tr style=\"text-align: right;\">\n",
       "      <th></th>\n",
       "      <th>car_model</th>\n",
       "      <th>year</th>\n",
       "    </tr>\n",
       "  </thead>\n",
       "  <tbody>\n",
       "    <tr>\n",
       "      <th>0</th>\n",
       "      <td>Ferrari</td>\n",
       "      <td>2018</td>\n",
       "    </tr>\n",
       "    <tr>\n",
       "      <th>1</th>\n",
       "      <td>Tesla</td>\n",
       "      <td>2023</td>\n",
       "    </tr>\n",
       "    <tr>\n",
       "      <th>2</th>\n",
       "      <td>BMW</td>\n",
       "      <td>2022</td>\n",
       "    </tr>\n",
       "    <tr>\n",
       "      <th>3</th>\n",
       "      <td>Something</td>\n",
       "      <td>1993</td>\n",
       "    </tr>\n",
       "  </tbody>\n",
       "</table>\n",
       "</div>"
      ],
      "text/plain": [
       "   car_model  year\n",
       "0    Ferrari  2018\n",
       "1      Tesla  2023\n",
       "2        BMW  2022\n",
       "3  Something  1993"
      ]
     },
     "execution_count": 11,
     "metadata": {},
     "output_type": "execute_result"
    }
   ],
   "source": [
    "# This is an example of a pandas data frame created from a dictionary\n",
    "# This example illustrates the basic syntax of a dictionary\n",
    "\n",
    "car_dictionary = {\"car_model\": [\"Ferrari\",\"Tesla\",\"BMW\",\"Something\"],\n",
    "                  \"year\": [\"2018\",\"2023\",\"2022\", \"1993\"]}\n",
    "\n",
    "pd.DataFrame(car_dictionary)"
   ]
  },
  {
   "attachments": {},
   "cell_type": "markdown",
   "metadata": {},
   "source": [
    "<font size = \"5\">\n",
    "\n",
    "Rename columns with dictionaries\n",
    "\n",
    "``` {\"old_name\": \"new_name\"} ```"
   ]
  },
  {
   "cell_type": "code",
   "execution_count": 12,
   "metadata": {},
   "outputs": [
    {
     "data": {
      "application/vnd.microsoft.datawrangler.viewer.v0+json": {
       "columns": [
        {
         "name": "index",
         "rawType": "int64",
         "type": "integer"
        },
        {
         "name": "circuitId",
         "rawType": "int64",
         "type": "integer"
        },
        {
         "name": "circuitRef",
         "rawType": "object",
         "type": "string"
        },
        {
         "name": "circuit_name",
         "rawType": "object",
         "type": "string"
        },
        {
         "name": "location",
         "rawType": "object",
         "type": "string"
        },
        {
         "name": "country",
         "rawType": "object",
         "type": "string"
        },
        {
         "name": "lat",
         "rawType": "float64",
         "type": "float"
        },
        {
         "name": "lng",
         "rawType": "float64",
         "type": "float"
        },
        {
         "name": "alt",
         "rawType": "object",
         "type": "string"
        },
        {
         "name": "url",
         "rawType": "object",
         "type": "string"
        }
       ],
       "ref": "a9210b8a-6d0d-4a79-928e-cc4bfe6f606d",
       "rows": [
        [
         "0",
         "1",
         "albert_park",
         "Albert Park Grand Prix Circuit",
         "Melbourne",
         "Australia",
         "-37.8497",
         "144.968",
         "10",
         "http://en.wikipedia.org/wiki/Melbourne_Grand_Prix_Circuit"
        ],
        [
         "1",
         "2",
         "sepang",
         "Sepang International Circuit",
         "Kuala Lumpur",
         "Malaysia",
         "2.76083",
         "101.738",
         "18",
         "http://en.wikipedia.org/wiki/Sepang_International_Circuit"
        ],
        [
         "2",
         "3",
         "bahrain",
         "Bahrain International Circuit",
         "Sakhir",
         "Bahrain",
         "26.0325",
         "50.5106",
         "7",
         "http://en.wikipedia.org/wiki/Bahrain_International_Circuit"
        ],
        [
         "3",
         "4",
         "catalunya",
         "Circuit de Barcelona-Catalunya",
         "Montmeló",
         "Spain",
         "41.57",
         "2.26111",
         "109",
         "http://en.wikipedia.org/wiki/Circuit_de_Barcelona-Catalunya"
        ],
        [
         "4",
         "5",
         "istanbul",
         "Istanbul Park",
         "Istanbul",
         "Turkey",
         "40.9517",
         "29.405",
         "130",
         "http://en.wikipedia.org/wiki/Istanbul_Park"
        ],
        [
         "5",
         "6",
         "monaco",
         "Circuit de Monaco",
         "Monte-Carlo",
         "Monaco",
         "43.7347",
         "7.42056",
         "7",
         "http://en.wikipedia.org/wiki/Circuit_de_Monaco"
        ],
        [
         "6",
         "7",
         "villeneuve",
         "Circuit Gilles Villeneuve",
         "Montreal",
         "Canada",
         "45.5",
         "-73.5228",
         "13",
         "http://en.wikipedia.org/wiki/Circuit_Gilles_Villeneuve"
        ],
        [
         "7",
         "8",
         "magny_cours",
         "Circuit de Nevers Magny-Cours",
         "Magny Cours",
         "France",
         "46.8642",
         "3.16361",
         "228",
         "http://en.wikipedia.org/wiki/Circuit_de_Nevers_Magny-Cours"
        ],
        [
         "8",
         "9",
         "silverstone",
         "Silverstone Circuit",
         "Silverstone",
         "UK",
         "52.0786",
         "-1.01694",
         "153",
         "http://en.wikipedia.org/wiki/Silverstone_Circuit"
        ],
        [
         "9",
         "10",
         "hockenheimring",
         "Hockenheimring",
         "Hockenheim",
         "Germany",
         "49.3278",
         "8.56583",
         "103",
         "http://en.wikipedia.org/wiki/Hockenheimring"
        ],
        [
         "10",
         "11",
         "hungaroring",
         "Hungaroring",
         "Budapest",
         "Hungary",
         "47.5789",
         "19.2486",
         "264",
         "http://en.wikipedia.org/wiki/Hungaroring"
        ],
        [
         "11",
         "12",
         "valencia",
         "Valencia Street Circuit",
         "Valencia",
         "Spain",
         "39.4589",
         "-0.331667",
         "4",
         "http://en.wikipedia.org/wiki/Valencia_Street_Circuit"
        ],
        [
         "12",
         "13",
         "spa",
         "Circuit de Spa-Francorchamps",
         "Spa",
         "Belgium",
         "50.4372",
         "5.97139",
         "401",
         "http://en.wikipedia.org/wiki/Circuit_de_Spa-Francorchamps"
        ],
        [
         "13",
         "14",
         "monza",
         "Autodromo Nazionale di Monza",
         "Monza",
         "Italy",
         "45.6156",
         "9.28111",
         "162",
         "http://en.wikipedia.org/wiki/Autodromo_Nazionale_Monza"
        ],
        [
         "14",
         "15",
         "marina_bay",
         "Marina Bay Street Circuit",
         "Marina Bay",
         "Singapore",
         "1.2914",
         "103.864",
         "18",
         "http://en.wikipedia.org/wiki/Marina_Bay_Street_Circuit"
        ],
        [
         "15",
         "16",
         "fuji",
         "Fuji Speedway",
         "Oyama",
         "Japan",
         "35.3717",
         "138.927",
         "583",
         "http://en.wikipedia.org/wiki/Fuji_Speedway"
        ],
        [
         "16",
         "17",
         "shanghai",
         "Shanghai International Circuit",
         "Shanghai",
         "China",
         "31.3389",
         "121.22",
         "5",
         "http://en.wikipedia.org/wiki/Shanghai_International_Circuit"
        ],
        [
         "17",
         "18",
         "interlagos",
         "Autódromo José Carlos Pace",
         "São Paulo",
         "Brazil",
         "-23.7036",
         "-46.6997",
         "785",
         "http://en.wikipedia.org/wiki/Aut%C3%B3dromo_Jos%C3%A9_Carlos_Pace"
        ],
        [
         "18",
         "19",
         "indianapolis",
         "Indianapolis Motor Speedway",
         "Indianapolis",
         "USA",
         "39.795",
         "-86.2347",
         "223",
         "http://en.wikipedia.org/wiki/Indianapolis_Motor_Speedway"
        ],
        [
         "19",
         "20",
         "nurburgring",
         "Nürburgring",
         "Nürburg",
         "Germany",
         "50.3356",
         "6.9475",
         "578",
         "http://en.wikipedia.org/wiki/N%C3%BCrburgring"
        ],
        [
         "20",
         "21",
         "imola",
         "Autodromo Enzo e Dino Ferrari",
         "Imola",
         "Italy",
         "44.3439",
         "11.7167",
         "37",
         "http://en.wikipedia.org/wiki/Autodromo_Enzo_e_Dino_Ferrari"
        ],
        [
         "21",
         "22",
         "suzuka",
         "Suzuka Circuit",
         "Suzuka",
         "Japan",
         "34.8431",
         "136.541",
         "45",
         "http://en.wikipedia.org/wiki/Suzuka_Circuit"
        ],
        [
         "22",
         "80",
         "vegas",
         "Las Vegas Strip Street Circuit",
         "Las Vegas",
         "United States",
         "36.1147",
         "-115.173",
         "\\N",
         "https://en.wikipedia.org/wiki/Las_Vegas_Grand_Prix#Circuit"
        ],
        [
         "23",
         "24",
         "yas_marina",
         "Yas Marina Circuit",
         "Abu Dhabi",
         "UAE",
         "24.4672",
         "54.6031",
         "3",
         "http://en.wikipedia.org/wiki/Yas_Marina_Circuit"
        ],
        [
         "24",
         "25",
         "galvez",
         "Autódromo Juan y Oscar Gálvez",
         "Buenos Aires",
         "Argentina",
         "-34.6943",
         "-58.4593",
         "8",
         "http://en.wikipedia.org/wiki/Aut%C3%B3dromo_Oscar_Alfredo_G%C3%A1lvez"
        ],
        [
         "25",
         "26",
         "jerez",
         "Circuito de Jerez",
         "Jerez de la Frontera",
         "Spain",
         "36.7083",
         "-6.03417",
         "37",
         "http://en.wikipedia.org/wiki/Circuito_Permanente_de_Jerez"
        ],
        [
         "26",
         "27",
         "estoril",
         "Autódromo do Estoril",
         "Estoril",
         "Portugal",
         "38.7506",
         "-9.39417",
         "130",
         "http://en.wikipedia.org/wiki/Aut%C3%B3dromo_do_Estoril"
        ],
        [
         "27",
         "28",
         "okayama",
         "Okayama International Circuit",
         "Okayama",
         "Japan",
         "34.915",
         "134.221",
         "266",
         "http://en.wikipedia.org/wiki/TI_Circuit"
        ],
        [
         "28",
         "29",
         "adelaide",
         "Adelaide Street Circuit",
         "Adelaide",
         "Australia",
         "-34.9272",
         "138.617",
         "58",
         "http://en.wikipedia.org/wiki/Adelaide_Street_Circuit"
        ],
        [
         "29",
         "30",
         "kyalami",
         "Kyalami",
         "Midrand",
         "South Africa",
         "-25.9894",
         "28.0767",
         "1460",
         "http://en.wikipedia.org/wiki/Kyalami"
        ],
        [
         "30",
         "31",
         "donington",
         "Donington Park",
         "Castle Donington",
         "UK",
         "52.8306",
         "-1.37528",
         "88",
         "http://en.wikipedia.org/wiki/Donington_Park"
        ],
        [
         "31",
         "32",
         "rodriguez",
         "Autódromo Hermanos Rodríguez",
         "Mexico City",
         "Mexico",
         "19.4042",
         "-99.0907",
         "2227",
         "http://en.wikipedia.org/wiki/Aut%C3%B3dromo_Hermanos_Rodr%C3%ADguez"
        ],
        [
         "32",
         "33",
         "phoenix",
         "Phoenix street circuit",
         "Phoenix",
         "USA",
         "33.4479",
         "-112.075",
         "345",
         "http://en.wikipedia.org/wiki/Phoenix_street_circuit"
        ],
        [
         "33",
         "34",
         "ricard",
         "Circuit Paul Ricard",
         "Le Castellet",
         "France",
         "43.2506",
         "5.79167",
         "432",
         "http://en.wikipedia.org/wiki/Paul_Ricard_Circuit"
        ],
        [
         "34",
         "35",
         "yeongam",
         "Korean International Circuit",
         "Yeongam County",
         "Korea",
         "34.7333",
         "126.417",
         "0",
         "http://en.wikipedia.org/wiki/Korean_International_Circuit"
        ],
        [
         "35",
         "36",
         "jacarepagua",
         "Autódromo Internacional Nelson Piquet",
         "Rio de Janeiro",
         "Brazil",
         "-22.9756",
         "-43.395",
         "1126",
         "http://en.wikipedia.org/wiki/Aut%C3%B3dromo_Internacional_Nelson_Piquet"
        ],
        [
         "36",
         "37",
         "detroit",
         "Detroit Street Circuit",
         "Detroit",
         "USA",
         "42.3298",
         "-83.0401",
         "177",
         "http://en.wikipedia.org/wiki/Detroit_street_circuit"
        ],
        [
         "37",
         "38",
         "brands_hatch",
         "Brands Hatch",
         "Kent",
         "UK",
         "51.3569",
         "0.263056",
         "145",
         "http://en.wikipedia.org/wiki/Brands_Hatch"
        ],
        [
         "38",
         "39",
         "zandvoort",
         "Circuit Park Zandvoort",
         "Zandvoort",
         "Netherlands",
         "52.3888",
         "4.54092",
         "6",
         "http://en.wikipedia.org/wiki/Circuit_Zandvoort"
        ],
        [
         "39",
         "40",
         "zolder",
         "Zolder",
         "Heusden-Zolder",
         "Belgium",
         "50.9894",
         "5.25694",
         "36",
         "http://en.wikipedia.org/wiki/Zolder"
        ],
        [
         "40",
         "41",
         "dijon",
         "Dijon-Prenois",
         "Dijon",
         "France",
         "47.3625",
         "4.89913",
         "484",
         "http://en.wikipedia.org/wiki/Dijon-Prenois"
        ],
        [
         "41",
         "42",
         "dallas",
         "Fair Park",
         "Dallas",
         "USA",
         "32.7774",
         "-96.7587",
         "139",
         "http://en.wikipedia.org/wiki/Fair_Park"
        ],
        [
         "42",
         "43",
         "long_beach",
         "Long Beach",
         "California",
         "USA",
         "33.7651",
         "-118.189",
         "12",
         "http://en.wikipedia.org/wiki/Long_Beach,_California"
        ],
        [
         "43",
         "44",
         "las_vegas",
         "Las Vegas Street Circuit",
         "Nevada",
         "USA",
         "36.1162",
         "-115.174",
         "639",
         "http://en.wikipedia.org/wiki/Las_Vegas_Street_Circuit"
        ],
        [
         "44",
         "45",
         "jarama",
         "Jarama",
         "Madrid",
         "Spain",
         "40.6171",
         "-3.58558",
         "609",
         "http://en.wikipedia.org/wiki/Circuito_Permanente_Del_Jarama"
        ],
        [
         "45",
         "46",
         "watkins_glen",
         "Watkins Glen",
         "New York State",
         "USA",
         "42.3369",
         "-76.9272",
         "485",
         "http://en.wikipedia.org/wiki/Watkins_Glen_International"
        ],
        [
         "46",
         "47",
         "anderstorp",
         "Scandinavian Raceway",
         "Anderstorp",
         "Sweden",
         "57.2653",
         "13.6042",
         "153",
         "http://en.wikipedia.org/wiki/Scandinavian_Raceway"
        ],
        [
         "47",
         "48",
         "mosport",
         "Mosport International Raceway",
         "Ontario",
         "Canada",
         "44.0481",
         "-78.6756",
         "332",
         "http://en.wikipedia.org/wiki/Mosport"
        ],
        [
         "48",
         "49",
         "montjuic",
         "Montjuïc",
         "Barcelona",
         "Spain",
         "41.3664",
         "2.15167",
         "79",
         "http://en.wikipedia.org/wiki/Montju%C3%AFc_circuit"
        ],
        [
         "49",
         "50",
         "nivelles",
         "Nivelles-Baulers",
         "Brussels",
         "Belgium",
         "50.6211",
         "4.32694",
         "139",
         "http://en.wikipedia.org/wiki/Nivelles-Baulers"
        ]
       ],
       "shape": {
        "columns": 9,
        "rows": 77
       }
      },
      "text/html": [
       "<div>\n",
       "<style scoped>\n",
       "    .dataframe tbody tr th:only-of-type {\n",
       "        vertical-align: middle;\n",
       "    }\n",
       "\n",
       "    .dataframe tbody tr th {\n",
       "        vertical-align: top;\n",
       "    }\n",
       "\n",
       "    .dataframe thead th {\n",
       "        text-align: right;\n",
       "    }\n",
       "</style>\n",
       "<table border=\"1\" class=\"dataframe\">\n",
       "  <thead>\n",
       "    <tr style=\"text-align: right;\">\n",
       "      <th></th>\n",
       "      <th>circuitId</th>\n",
       "      <th>circuitRef</th>\n",
       "      <th>circuit_name</th>\n",
       "      <th>location</th>\n",
       "      <th>country</th>\n",
       "      <th>lat</th>\n",
       "      <th>lng</th>\n",
       "      <th>alt</th>\n",
       "      <th>url</th>\n",
       "    </tr>\n",
       "  </thead>\n",
       "  <tbody>\n",
       "    <tr>\n",
       "      <th>0</th>\n",
       "      <td>1</td>\n",
       "      <td>albert_park</td>\n",
       "      <td>Albert Park Grand Prix Circuit</td>\n",
       "      <td>Melbourne</td>\n",
       "      <td>Australia</td>\n",
       "      <td>-37.84970</td>\n",
       "      <td>144.96800</td>\n",
       "      <td>10</td>\n",
       "      <td>http://en.wikipedia.org/wiki/Melbourne_Grand_P...</td>\n",
       "    </tr>\n",
       "    <tr>\n",
       "      <th>1</th>\n",
       "      <td>2</td>\n",
       "      <td>sepang</td>\n",
       "      <td>Sepang International Circuit</td>\n",
       "      <td>Kuala Lumpur</td>\n",
       "      <td>Malaysia</td>\n",
       "      <td>2.76083</td>\n",
       "      <td>101.73800</td>\n",
       "      <td>18</td>\n",
       "      <td>http://en.wikipedia.org/wiki/Sepang_Internatio...</td>\n",
       "    </tr>\n",
       "    <tr>\n",
       "      <th>2</th>\n",
       "      <td>3</td>\n",
       "      <td>bahrain</td>\n",
       "      <td>Bahrain International Circuit</td>\n",
       "      <td>Sakhir</td>\n",
       "      <td>Bahrain</td>\n",
       "      <td>26.03250</td>\n",
       "      <td>50.51060</td>\n",
       "      <td>7</td>\n",
       "      <td>http://en.wikipedia.org/wiki/Bahrain_Internati...</td>\n",
       "    </tr>\n",
       "    <tr>\n",
       "      <th>3</th>\n",
       "      <td>4</td>\n",
       "      <td>catalunya</td>\n",
       "      <td>Circuit de Barcelona-Catalunya</td>\n",
       "      <td>Montmeló</td>\n",
       "      <td>Spain</td>\n",
       "      <td>41.57000</td>\n",
       "      <td>2.26111</td>\n",
       "      <td>109</td>\n",
       "      <td>http://en.wikipedia.org/wiki/Circuit_de_Barcel...</td>\n",
       "    </tr>\n",
       "    <tr>\n",
       "      <th>4</th>\n",
       "      <td>5</td>\n",
       "      <td>istanbul</td>\n",
       "      <td>Istanbul Park</td>\n",
       "      <td>Istanbul</td>\n",
       "      <td>Turkey</td>\n",
       "      <td>40.95170</td>\n",
       "      <td>29.40500</td>\n",
       "      <td>130</td>\n",
       "      <td>http://en.wikipedia.org/wiki/Istanbul_Park</td>\n",
       "    </tr>\n",
       "    <tr>\n",
       "      <th>...</th>\n",
       "      <td>...</td>\n",
       "      <td>...</td>\n",
       "      <td>...</td>\n",
       "      <td>...</td>\n",
       "      <td>...</td>\n",
       "      <td>...</td>\n",
       "      <td>...</td>\n",
       "      <td>...</td>\n",
       "      <td>...</td>\n",
       "    </tr>\n",
       "    <tr>\n",
       "      <th>72</th>\n",
       "      <td>75</td>\n",
       "      <td>portimao</td>\n",
       "      <td>Autódromo Internacional do Algarve</td>\n",
       "      <td>Portimão</td>\n",
       "      <td>Portugal</td>\n",
       "      <td>37.22700</td>\n",
       "      <td>-8.62670</td>\n",
       "      <td>108</td>\n",
       "      <td>http://en.wikipedia.org/wiki/Algarve_Internati...</td>\n",
       "    </tr>\n",
       "    <tr>\n",
       "      <th>73</th>\n",
       "      <td>76</td>\n",
       "      <td>mugello</td>\n",
       "      <td>Autodromo Internazionale del Mugello</td>\n",
       "      <td>Mugello</td>\n",
       "      <td>Italy</td>\n",
       "      <td>43.99750</td>\n",
       "      <td>11.37190</td>\n",
       "      <td>255</td>\n",
       "      <td>http://en.wikipedia.org/wiki/Mugello_Circuit</td>\n",
       "    </tr>\n",
       "    <tr>\n",
       "      <th>74</th>\n",
       "      <td>77</td>\n",
       "      <td>jeddah</td>\n",
       "      <td>Jeddah Corniche Circuit</td>\n",
       "      <td>Jeddah</td>\n",
       "      <td>Saudi Arabia</td>\n",
       "      <td>21.63190</td>\n",
       "      <td>39.10440</td>\n",
       "      <td>15</td>\n",
       "      <td>http://en.wikipedia.org/wiki/Jeddah_Street_Cir...</td>\n",
       "    </tr>\n",
       "    <tr>\n",
       "      <th>75</th>\n",
       "      <td>78</td>\n",
       "      <td>losail</td>\n",
       "      <td>Losail International Circuit</td>\n",
       "      <td>Al Daayen</td>\n",
       "      <td>Qatar</td>\n",
       "      <td>25.49000</td>\n",
       "      <td>51.45420</td>\n",
       "      <td>\\N</td>\n",
       "      <td>http://en.wikipedia.org/wiki/Losail_Internatio...</td>\n",
       "    </tr>\n",
       "    <tr>\n",
       "      <th>76</th>\n",
       "      <td>79</td>\n",
       "      <td>miami</td>\n",
       "      <td>Miami International Autodrome</td>\n",
       "      <td>Miami</td>\n",
       "      <td>USA</td>\n",
       "      <td>25.95810</td>\n",
       "      <td>-80.23890</td>\n",
       "      <td>\\N</td>\n",
       "      <td>http://en.wikipedia.org/wiki/Miami_Internation...</td>\n",
       "    </tr>\n",
       "  </tbody>\n",
       "</table>\n",
       "<p>77 rows × 9 columns</p>\n",
       "</div>"
      ],
      "text/plain": [
       "    circuitId   circuitRef                          circuit_name  \\\n",
       "0           1  albert_park        Albert Park Grand Prix Circuit   \n",
       "1           2       sepang          Sepang International Circuit   \n",
       "2           3      bahrain         Bahrain International Circuit   \n",
       "3           4    catalunya        Circuit de Barcelona-Catalunya   \n",
       "4           5     istanbul                         Istanbul Park   \n",
       "..        ...          ...                                   ...   \n",
       "72         75     portimao    Autódromo Internacional do Algarve   \n",
       "73         76      mugello  Autodromo Internazionale del Mugello   \n",
       "74         77       jeddah               Jeddah Corniche Circuit   \n",
       "75         78       losail          Losail International Circuit   \n",
       "76         79        miami         Miami International Autodrome   \n",
       "\n",
       "        location       country       lat        lng  alt  \\\n",
       "0      Melbourne     Australia -37.84970  144.96800   10   \n",
       "1   Kuala Lumpur      Malaysia   2.76083  101.73800   18   \n",
       "2         Sakhir       Bahrain  26.03250   50.51060    7   \n",
       "3       Montmeló         Spain  41.57000    2.26111  109   \n",
       "4       Istanbul        Turkey  40.95170   29.40500  130   \n",
       "..           ...           ...       ...        ...  ...   \n",
       "72      Portimão      Portugal  37.22700   -8.62670  108   \n",
       "73       Mugello         Italy  43.99750   11.37190  255   \n",
       "74        Jeddah  Saudi Arabia  21.63190   39.10440   15   \n",
       "75     Al Daayen         Qatar  25.49000   51.45420   \\N   \n",
       "76         Miami           USA  25.95810  -80.23890   \\N   \n",
       "\n",
       "                                                  url  \n",
       "0   http://en.wikipedia.org/wiki/Melbourne_Grand_P...  \n",
       "1   http://en.wikipedia.org/wiki/Sepang_Internatio...  \n",
       "2   http://en.wikipedia.org/wiki/Bahrain_Internati...  \n",
       "3   http://en.wikipedia.org/wiki/Circuit_de_Barcel...  \n",
       "4          http://en.wikipedia.org/wiki/Istanbul_Park  \n",
       "..                                                ...  \n",
       "72  http://en.wikipedia.org/wiki/Algarve_Internati...  \n",
       "73       http://en.wikipedia.org/wiki/Mugello_Circuit  \n",
       "74  http://en.wikipedia.org/wiki/Jeddah_Street_Cir...  \n",
       "75  http://en.wikipedia.org/wiki/Losail_Internatio...  \n",
       "76  http://en.wikipedia.org/wiki/Miami_Internation...  \n",
       "\n",
       "[77 rows x 9 columns]"
      ]
     },
     "execution_count": 12,
     "metadata": {},
     "output_type": "execute_result"
    }
   ],
   "source": [
    "circuits_raw.rename(columns={'name':'circuit_name'})"
   ]
  },
  {
   "cell_type": "code",
   "execution_count": 13,
   "metadata": {},
   "outputs": [],
   "source": [
    "# We first define the dictionary\n",
    "# Change the pipe \".rename(...)\" to rename the columns\n",
    "# Dictionaries can flexibly accommodate single values or list after \":\"\n",
    "\n",
    "dict_rename_circuits = {\"name\": \"circuit_name\"}\n",
    "circuits = circuits_raw.rename(columns = dict_rename_circuits)"
   ]
  },
  {
   "attachments": {},
   "cell_type": "markdown",
   "metadata": {},
   "source": [
    "<font size = \"5\">\n",
    "Check that \".rename()\" worked"
   ]
  },
  {
   "cell_type": "code",
   "execution_count": 14,
   "metadata": {},
   "outputs": [
    {
     "name": "stdout",
     "output_type": "stream",
     "text": [
      "Old List:\n",
      "['circuitId' 'circuitRef' 'name' 'location' 'country' 'lat' 'lng' 'alt'\n",
      " 'url']\n",
      "\n",
      "New List:\n",
      "['circuitId' 'circuitRef' 'circuit_name' 'location' 'country' 'lat' 'lng'\n",
      " 'alt' 'url']\n"
     ]
    }
   ],
   "source": [
    "# Extract the column names of the \"raw\" and \"clean\" data\n",
    "\n",
    "print(\"Old List:\")\n",
    "print(circuits_raw.columns.values)\n",
    "print(\"\")\n",
    "print(\"New List:\")\n",
    "print(circuits.columns.values)\n"
   ]
  },
  {
   "attachments": {},
   "cell_type": "markdown",
   "metadata": {},
   "source": [
    "<font size = 5>\n",
    "\n",
    "Try it yourself!\n",
    "\n",
    "- Create a dictionary to rename \"name\" to \"race_name\"\n",
    "- Rename this column in the \"races_raw\" dataset\n",
    "- Store the output in a new dataset called \"races\""
   ]
  },
  {
   "cell_type": "code",
   "execution_count": 16,
   "metadata": {},
   "outputs": [
    {
     "name": "stdout",
     "output_type": "stream",
     "text": [
      "['raceId' 'year' 'round' 'circuitId' 'race_name' 'date' 'time' 'url'\n",
      " 'fp1_date' 'fp1_time' 'fp2_date' 'fp2_time' 'fp3_date' 'fp3_time'\n",
      " 'quali_date' 'quali_time' 'sprint_date' 'sprint_time']\n"
     ]
    }
   ],
   "source": [
    "# Write your own code\n",
    "\n",
    "\n",
    "dict_rename_races = {\"name\" :\"race_name\"}\n",
    "races = races_raw.rename(columns= dict_rename_races)\n",
    "\n",
    "\n",
    "print(races.columns.values)"
   ]
  },
  {
   "attachments": {},
   "cell_type": "markdown",
   "metadata": {},
   "source": [
    "# <span style=\"color:darkblue\"> II. Merging </span>\n"
   ]
  },
  {
   "attachments": {},
   "cell_type": "markdown",
   "metadata": {},
   "source": [
    "<font size = \"5\">\n",
    "\n",
    "Extracting specific columns from dataset"
   ]
  },
  {
   "cell_type": "code",
   "execution_count": 17,
   "metadata": {},
   "outputs": [
    {
     "data": {
      "application/vnd.microsoft.datawrangler.viewer.v0+json": {
       "columns": [
        {
         "name": "index",
         "rawType": "int64",
         "type": "integer"
        },
        {
         "name": "circuitId",
         "rawType": "int64",
         "type": "integer"
        },
        {
         "name": "circuit_name",
         "rawType": "object",
         "type": "string"
        }
       ],
       "ref": "fde41616-ca6c-449b-8513-8f12a31cb71b",
       "rows": [
        [
         "0",
         "1",
         "Albert Park Grand Prix Circuit"
        ],
        [
         "1",
         "2",
         "Sepang International Circuit"
        ],
        [
         "2",
         "3",
         "Bahrain International Circuit"
        ],
        [
         "3",
         "4",
         "Circuit de Barcelona-Catalunya"
        ],
        [
         "4",
         "5",
         "Istanbul Park"
        ],
        [
         "5",
         "6",
         "Circuit de Monaco"
        ],
        [
         "6",
         "7",
         "Circuit Gilles Villeneuve"
        ],
        [
         "7",
         "8",
         "Circuit de Nevers Magny-Cours"
        ],
        [
         "8",
         "9",
         "Silverstone Circuit"
        ],
        [
         "9",
         "10",
         "Hockenheimring"
        ],
        [
         "10",
         "11",
         "Hungaroring"
        ],
        [
         "11",
         "12",
         "Valencia Street Circuit"
        ],
        [
         "12",
         "13",
         "Circuit de Spa-Francorchamps"
        ],
        [
         "13",
         "14",
         "Autodromo Nazionale di Monza"
        ],
        [
         "14",
         "15",
         "Marina Bay Street Circuit"
        ],
        [
         "15",
         "16",
         "Fuji Speedway"
        ],
        [
         "16",
         "17",
         "Shanghai International Circuit"
        ],
        [
         "17",
         "18",
         "Autódromo José Carlos Pace"
        ],
        [
         "18",
         "19",
         "Indianapolis Motor Speedway"
        ],
        [
         "19",
         "20",
         "Nürburgring"
        ],
        [
         "20",
         "21",
         "Autodromo Enzo e Dino Ferrari"
        ],
        [
         "21",
         "22",
         "Suzuka Circuit"
        ],
        [
         "22",
         "80",
         "Las Vegas Strip Street Circuit"
        ],
        [
         "23",
         "24",
         "Yas Marina Circuit"
        ],
        [
         "24",
         "25",
         "Autódromo Juan y Oscar Gálvez"
        ],
        [
         "25",
         "26",
         "Circuito de Jerez"
        ],
        [
         "26",
         "27",
         "Autódromo do Estoril"
        ],
        [
         "27",
         "28",
         "Okayama International Circuit"
        ],
        [
         "28",
         "29",
         "Adelaide Street Circuit"
        ],
        [
         "29",
         "30",
         "Kyalami"
        ],
        [
         "30",
         "31",
         "Donington Park"
        ],
        [
         "31",
         "32",
         "Autódromo Hermanos Rodríguez"
        ],
        [
         "32",
         "33",
         "Phoenix street circuit"
        ],
        [
         "33",
         "34",
         "Circuit Paul Ricard"
        ],
        [
         "34",
         "35",
         "Korean International Circuit"
        ],
        [
         "35",
         "36",
         "Autódromo Internacional Nelson Piquet"
        ],
        [
         "36",
         "37",
         "Detroit Street Circuit"
        ],
        [
         "37",
         "38",
         "Brands Hatch"
        ],
        [
         "38",
         "39",
         "Circuit Park Zandvoort"
        ],
        [
         "39",
         "40",
         "Zolder"
        ],
        [
         "40",
         "41",
         "Dijon-Prenois"
        ],
        [
         "41",
         "42",
         "Fair Park"
        ],
        [
         "42",
         "43",
         "Long Beach"
        ],
        [
         "43",
         "44",
         "Las Vegas Street Circuit"
        ],
        [
         "44",
         "45",
         "Jarama"
        ],
        [
         "45",
         "46",
         "Watkins Glen"
        ],
        [
         "46",
         "47",
         "Scandinavian Raceway"
        ],
        [
         "47",
         "48",
         "Mosport International Raceway"
        ],
        [
         "48",
         "49",
         "Montjuïc"
        ],
        [
         "49",
         "50",
         "Nivelles-Baulers"
        ]
       ],
       "shape": {
        "columns": 2,
        "rows": 77
       }
      },
      "text/html": [
       "<div>\n",
       "<style scoped>\n",
       "    .dataframe tbody tr th:only-of-type {\n",
       "        vertical-align: middle;\n",
       "    }\n",
       "\n",
       "    .dataframe tbody tr th {\n",
       "        vertical-align: top;\n",
       "    }\n",
       "\n",
       "    .dataframe thead th {\n",
       "        text-align: right;\n",
       "    }\n",
       "</style>\n",
       "<table border=\"1\" class=\"dataframe\">\n",
       "  <thead>\n",
       "    <tr style=\"text-align: right;\">\n",
       "      <th></th>\n",
       "      <th>circuitId</th>\n",
       "      <th>circuit_name</th>\n",
       "    </tr>\n",
       "  </thead>\n",
       "  <tbody>\n",
       "    <tr>\n",
       "      <th>0</th>\n",
       "      <td>1</td>\n",
       "      <td>Albert Park Grand Prix Circuit</td>\n",
       "    </tr>\n",
       "    <tr>\n",
       "      <th>1</th>\n",
       "      <td>2</td>\n",
       "      <td>Sepang International Circuit</td>\n",
       "    </tr>\n",
       "    <tr>\n",
       "      <th>2</th>\n",
       "      <td>3</td>\n",
       "      <td>Bahrain International Circuit</td>\n",
       "    </tr>\n",
       "    <tr>\n",
       "      <th>3</th>\n",
       "      <td>4</td>\n",
       "      <td>Circuit de Barcelona-Catalunya</td>\n",
       "    </tr>\n",
       "    <tr>\n",
       "      <th>4</th>\n",
       "      <td>5</td>\n",
       "      <td>Istanbul Park</td>\n",
       "    </tr>\n",
       "    <tr>\n",
       "      <th>...</th>\n",
       "      <td>...</td>\n",
       "      <td>...</td>\n",
       "    </tr>\n",
       "    <tr>\n",
       "      <th>72</th>\n",
       "      <td>75</td>\n",
       "      <td>Autódromo Internacional do Algarve</td>\n",
       "    </tr>\n",
       "    <tr>\n",
       "      <th>73</th>\n",
       "      <td>76</td>\n",
       "      <td>Autodromo Internazionale del Mugello</td>\n",
       "    </tr>\n",
       "    <tr>\n",
       "      <th>74</th>\n",
       "      <td>77</td>\n",
       "      <td>Jeddah Corniche Circuit</td>\n",
       "    </tr>\n",
       "    <tr>\n",
       "      <th>75</th>\n",
       "      <td>78</td>\n",
       "      <td>Losail International Circuit</td>\n",
       "    </tr>\n",
       "    <tr>\n",
       "      <th>76</th>\n",
       "      <td>79</td>\n",
       "      <td>Miami International Autodrome</td>\n",
       "    </tr>\n",
       "  </tbody>\n",
       "</table>\n",
       "<p>77 rows × 2 columns</p>\n",
       "</div>"
      ],
      "text/plain": [
       "    circuitId                          circuit_name\n",
       "0           1        Albert Park Grand Prix Circuit\n",
       "1           2          Sepang International Circuit\n",
       "2           3         Bahrain International Circuit\n",
       "3           4        Circuit de Barcelona-Catalunya\n",
       "4           5                         Istanbul Park\n",
       "..        ...                                   ...\n",
       "72         75    Autódromo Internacional do Algarve\n",
       "73         76  Autodromo Internazionale del Mugello\n",
       "74         77               Jeddah Corniche Circuit\n",
       "75         78          Losail International Circuit\n",
       "76         79         Miami International Autodrome\n",
       "\n",
       "[77 rows x 2 columns]"
      ]
     },
     "execution_count": 17,
     "metadata": {},
     "output_type": "execute_result"
    }
   ],
   "source": [
    "circuits[[\"circuitId\",\"circuit_name\"]]"
   ]
  },
  {
   "attachments": {},
   "cell_type": "markdown",
   "metadata": {},
   "source": [
    "<font size = \"5\">\n",
    "\n",
    "Merge datasets\n",
    "\n",
    "<img src=\"figures/merge_goal.png\" alt=\"drawing\" width=\"500\"/>\n",
    "\n",
    "\n",
    "```pd.merge(data1,data2,on,how)```\n",
    "\n",
    "- Strive to merge only specific columns of data2\n",
    "- Avoid merging all columns\n",
    "- Keeping it simple gives you more control over the output"
   ]
  },
  {
   "cell_type": "code",
   "execution_count": 36,
   "metadata": {},
   "outputs": [
    {
     "data": {
      "text/html": [
       "<div>\n",
       "<style scoped>\n",
       "    .dataframe tbody tr th:only-of-type {\n",
       "        vertical-align: middle;\n",
       "    }\n",
       "\n",
       "    .dataframe tbody tr th {\n",
       "        vertical-align: top;\n",
       "    }\n",
       "\n",
       "    .dataframe thead th {\n",
       "        text-align: right;\n",
       "    }\n",
       "</style>\n",
       "<table border=\"1\" class=\"dataframe\">\n",
       "  <thead>\n",
       "    <tr style=\"text-align: right;\">\n",
       "      <th></th>\n",
       "      <th>circuitId</th>\n",
       "      <th>circuitRef</th>\n",
       "      <th>circuit_name</th>\n",
       "      <th>location</th>\n",
       "      <th>country</th>\n",
       "      <th>lat</th>\n",
       "      <th>lng</th>\n",
       "      <th>alt</th>\n",
       "      <th>url</th>\n",
       "    </tr>\n",
       "  </thead>\n",
       "  <tbody>\n",
       "    <tr>\n",
       "      <th>0</th>\n",
       "      <td>1</td>\n",
       "      <td>albert_park</td>\n",
       "      <td>Albert Park Grand Prix Circuit</td>\n",
       "      <td>Melbourne</td>\n",
       "      <td>Australia</td>\n",
       "      <td>-37.84970</td>\n",
       "      <td>144.96800</td>\n",
       "      <td>10</td>\n",
       "      <td>http://en.wikipedia.org/wiki/Melbourne_Grand_P...</td>\n",
       "    </tr>\n",
       "    <tr>\n",
       "      <th>1</th>\n",
       "      <td>2</td>\n",
       "      <td>sepang</td>\n",
       "      <td>Sepang International Circuit</td>\n",
       "      <td>Kuala Lumpur</td>\n",
       "      <td>Malaysia</td>\n",
       "      <td>2.76083</td>\n",
       "      <td>101.73800</td>\n",
       "      <td>18</td>\n",
       "      <td>http://en.wikipedia.org/wiki/Sepang_Internatio...</td>\n",
       "    </tr>\n",
       "    <tr>\n",
       "      <th>2</th>\n",
       "      <td>3</td>\n",
       "      <td>bahrain</td>\n",
       "      <td>Bahrain International Circuit</td>\n",
       "      <td>Sakhir</td>\n",
       "      <td>Bahrain</td>\n",
       "      <td>26.03250</td>\n",
       "      <td>50.51060</td>\n",
       "      <td>7</td>\n",
       "      <td>http://en.wikipedia.org/wiki/Bahrain_Internati...</td>\n",
       "    </tr>\n",
       "    <tr>\n",
       "      <th>3</th>\n",
       "      <td>4</td>\n",
       "      <td>catalunya</td>\n",
       "      <td>Circuit de Barcelona-Catalunya</td>\n",
       "      <td>Montmeló</td>\n",
       "      <td>Spain</td>\n",
       "      <td>41.57000</td>\n",
       "      <td>2.26111</td>\n",
       "      <td>109</td>\n",
       "      <td>http://en.wikipedia.org/wiki/Circuit_de_Barcel...</td>\n",
       "    </tr>\n",
       "    <tr>\n",
       "      <th>4</th>\n",
       "      <td>5</td>\n",
       "      <td>istanbul</td>\n",
       "      <td>Istanbul Park</td>\n",
       "      <td>Istanbul</td>\n",
       "      <td>Turkey</td>\n",
       "      <td>40.95170</td>\n",
       "      <td>29.40500</td>\n",
       "      <td>130</td>\n",
       "      <td>http://en.wikipedia.org/wiki/Istanbul_Park</td>\n",
       "    </tr>\n",
       "    <tr>\n",
       "      <th>...</th>\n",
       "      <td>...</td>\n",
       "      <td>...</td>\n",
       "      <td>...</td>\n",
       "      <td>...</td>\n",
       "      <td>...</td>\n",
       "      <td>...</td>\n",
       "      <td>...</td>\n",
       "      <td>...</td>\n",
       "      <td>...</td>\n",
       "    </tr>\n",
       "    <tr>\n",
       "      <th>72</th>\n",
       "      <td>75</td>\n",
       "      <td>portimao</td>\n",
       "      <td>Autódromo Internacional do Algarve</td>\n",
       "      <td>Portimão</td>\n",
       "      <td>Portugal</td>\n",
       "      <td>37.22700</td>\n",
       "      <td>-8.62670</td>\n",
       "      <td>108</td>\n",
       "      <td>http://en.wikipedia.org/wiki/Algarve_Internati...</td>\n",
       "    </tr>\n",
       "    <tr>\n",
       "      <th>73</th>\n",
       "      <td>76</td>\n",
       "      <td>mugello</td>\n",
       "      <td>Autodromo Internazionale del Mugello</td>\n",
       "      <td>Mugello</td>\n",
       "      <td>Italy</td>\n",
       "      <td>43.99750</td>\n",
       "      <td>11.37190</td>\n",
       "      <td>255</td>\n",
       "      <td>http://en.wikipedia.org/wiki/Mugello_Circuit</td>\n",
       "    </tr>\n",
       "    <tr>\n",
       "      <th>74</th>\n",
       "      <td>77</td>\n",
       "      <td>jeddah</td>\n",
       "      <td>Jeddah Corniche Circuit</td>\n",
       "      <td>Jeddah</td>\n",
       "      <td>Saudi Arabia</td>\n",
       "      <td>21.63190</td>\n",
       "      <td>39.10440</td>\n",
       "      <td>15</td>\n",
       "      <td>http://en.wikipedia.org/wiki/Jeddah_Street_Cir...</td>\n",
       "    </tr>\n",
       "    <tr>\n",
       "      <th>75</th>\n",
       "      <td>78</td>\n",
       "      <td>losail</td>\n",
       "      <td>Losail International Circuit</td>\n",
       "      <td>Al Daayen</td>\n",
       "      <td>Qatar</td>\n",
       "      <td>25.49000</td>\n",
       "      <td>51.45420</td>\n",
       "      <td>\\N</td>\n",
       "      <td>http://en.wikipedia.org/wiki/Losail_Internatio...</td>\n",
       "    </tr>\n",
       "    <tr>\n",
       "      <th>76</th>\n",
       "      <td>79</td>\n",
       "      <td>miami</td>\n",
       "      <td>Miami International Autodrome</td>\n",
       "      <td>Miami</td>\n",
       "      <td>USA</td>\n",
       "      <td>25.95810</td>\n",
       "      <td>-80.23890</td>\n",
       "      <td>\\N</td>\n",
       "      <td>http://en.wikipedia.org/wiki/Miami_Internation...</td>\n",
       "    </tr>\n",
       "  </tbody>\n",
       "</table>\n",
       "<p>77 rows × 9 columns</p>\n",
       "</div>"
      ],
      "text/plain": [
       "    circuitId   circuitRef                          circuit_name  \\\n",
       "0           1  albert_park        Albert Park Grand Prix Circuit   \n",
       "1           2       sepang          Sepang International Circuit   \n",
       "2           3      bahrain         Bahrain International Circuit   \n",
       "3           4    catalunya        Circuit de Barcelona-Catalunya   \n",
       "4           5     istanbul                         Istanbul Park   \n",
       "..        ...          ...                                   ...   \n",
       "72         75     portimao    Autódromo Internacional do Algarve   \n",
       "73         76      mugello  Autodromo Internazionale del Mugello   \n",
       "74         77       jeddah               Jeddah Corniche Circuit   \n",
       "75         78       losail          Losail International Circuit   \n",
       "76         79        miami         Miami International Autodrome   \n",
       "\n",
       "        location       country       lat        lng  alt  \\\n",
       "0      Melbourne     Australia -37.84970  144.96800   10   \n",
       "1   Kuala Lumpur      Malaysia   2.76083  101.73800   18   \n",
       "2         Sakhir       Bahrain  26.03250   50.51060    7   \n",
       "3       Montmeló         Spain  41.57000    2.26111  109   \n",
       "4       Istanbul        Turkey  40.95170   29.40500  130   \n",
       "..           ...           ...       ...        ...  ...   \n",
       "72      Portimão      Portugal  37.22700   -8.62670  108   \n",
       "73       Mugello         Italy  43.99750   11.37190  255   \n",
       "74        Jeddah  Saudi Arabia  21.63190   39.10440   15   \n",
       "75     Al Daayen         Qatar  25.49000   51.45420   \\N   \n",
       "76         Miami           USA  25.95810  -80.23890   \\N   \n",
       "\n",
       "                                                  url  \n",
       "0   http://en.wikipedia.org/wiki/Melbourne_Grand_P...  \n",
       "1   http://en.wikipedia.org/wiki/Sepang_Internatio...  \n",
       "2   http://en.wikipedia.org/wiki/Bahrain_Internati...  \n",
       "3   http://en.wikipedia.org/wiki/Circuit_de_Barcel...  \n",
       "4          http://en.wikipedia.org/wiki/Istanbul_Park  \n",
       "..                                                ...  \n",
       "72  http://en.wikipedia.org/wiki/Algarve_Internati...  \n",
       "73       http://en.wikipedia.org/wiki/Mugello_Circuit  \n",
       "74  http://en.wikipedia.org/wiki/Jeddah_Street_Cir...  \n",
       "75  http://en.wikipedia.org/wiki/Losail_Internatio...  \n",
       "76  http://en.wikipedia.org/wiki/Miami_Internation...  \n",
       "\n",
       "[77 rows x 9 columns]"
      ]
     },
     "execution_count": 36,
     "metadata": {},
     "output_type": "execute_result"
    }
   ],
   "source": [
    "circuits"
   ]
  },
  {
   "cell_type": "code",
   "execution_count": 37,
   "metadata": {},
   "outputs": [
    {
     "data": {
      "text/html": [
       "<div>\n",
       "<style scoped>\n",
       "    .dataframe tbody tr th:only-of-type {\n",
       "        vertical-align: middle;\n",
       "    }\n",
       "\n",
       "    .dataframe tbody tr th {\n",
       "        vertical-align: top;\n",
       "    }\n",
       "\n",
       "    .dataframe thead th {\n",
       "        text-align: right;\n",
       "    }\n",
       "</style>\n",
       "<table border=\"1\" class=\"dataframe\">\n",
       "  <thead>\n",
       "    <tr style=\"text-align: right;\">\n",
       "      <th></th>\n",
       "      <th>circuit_name</th>\n",
       "      <th>location</th>\n",
       "    </tr>\n",
       "  </thead>\n",
       "  <tbody>\n",
       "    <tr>\n",
       "      <th>0</th>\n",
       "      <td>Albert Park Grand Prix Circuit</td>\n",
       "      <td>Melbourne</td>\n",
       "    </tr>\n",
       "    <tr>\n",
       "      <th>1</th>\n",
       "      <td>Sepang International Circuit</td>\n",
       "      <td>Kuala Lumpur</td>\n",
       "    </tr>\n",
       "    <tr>\n",
       "      <th>2</th>\n",
       "      <td>Bahrain International Circuit</td>\n",
       "      <td>Sakhir</td>\n",
       "    </tr>\n",
       "    <tr>\n",
       "      <th>3</th>\n",
       "      <td>Circuit de Barcelona-Catalunya</td>\n",
       "      <td>Montmeló</td>\n",
       "    </tr>\n",
       "    <tr>\n",
       "      <th>4</th>\n",
       "      <td>Istanbul Park</td>\n",
       "      <td>Istanbul</td>\n",
       "    </tr>\n",
       "    <tr>\n",
       "      <th>...</th>\n",
       "      <td>...</td>\n",
       "      <td>...</td>\n",
       "    </tr>\n",
       "    <tr>\n",
       "      <th>72</th>\n",
       "      <td>Autódromo Internacional do Algarve</td>\n",
       "      <td>Portimão</td>\n",
       "    </tr>\n",
       "    <tr>\n",
       "      <th>73</th>\n",
       "      <td>Autodromo Internazionale del Mugello</td>\n",
       "      <td>Mugello</td>\n",
       "    </tr>\n",
       "    <tr>\n",
       "      <th>74</th>\n",
       "      <td>Jeddah Corniche Circuit</td>\n",
       "      <td>Jeddah</td>\n",
       "    </tr>\n",
       "    <tr>\n",
       "      <th>75</th>\n",
       "      <td>Losail International Circuit</td>\n",
       "      <td>Al Daayen</td>\n",
       "    </tr>\n",
       "    <tr>\n",
       "      <th>76</th>\n",
       "      <td>Miami International Autodrome</td>\n",
       "      <td>Miami</td>\n",
       "    </tr>\n",
       "  </tbody>\n",
       "</table>\n",
       "<p>77 rows × 2 columns</p>\n",
       "</div>"
      ],
      "text/plain": [
       "                            circuit_name      location\n",
       "0         Albert Park Grand Prix Circuit     Melbourne\n",
       "1           Sepang International Circuit  Kuala Lumpur\n",
       "2          Bahrain International Circuit        Sakhir\n",
       "3         Circuit de Barcelona-Catalunya      Montmeló\n",
       "4                          Istanbul Park      Istanbul\n",
       "..                                   ...           ...\n",
       "72    Autódromo Internacional do Algarve      Portimão\n",
       "73  Autodromo Internazionale del Mugello       Mugello\n",
       "74               Jeddah Corniche Circuit        Jeddah\n",
       "75          Losail International Circuit     Al Daayen\n",
       "76         Miami International Autodrome         Miami\n",
       "\n",
       "[77 rows x 2 columns]"
      ]
     },
     "execution_count": 37,
     "metadata": {},
     "output_type": "execute_result"
    }
   ],
   "source": [
    "circuits[[\"circuit_name\", \"location\"]]"
   ]
  },
  {
   "cell_type": "code",
   "execution_count": 22,
   "metadata": {},
   "outputs": [
    {
     "name": "stdout",
     "output_type": "stream",
     "text": [
      "      raceId  year  circuitId\n",
      "0          1  2009          1\n",
      "1          2  2009          2\n",
      "2          3  2009         17\n",
      "3          4  2009          3\n",
      "4          5  2009          4\n",
      "...      ...   ...        ...\n",
      "1097    1116  2023         69\n",
      "1098    1117  2023         32\n",
      "1099    1118  2023         18\n",
      "1100    1119  2023         80\n",
      "1101    1120  2023         24\n",
      "\n",
      "[1102 rows x 3 columns]\n",
      "    circuitId                          circuit_name      location\n",
      "0           1        Albert Park Grand Prix Circuit     Melbourne\n",
      "1           2          Sepang International Circuit  Kuala Lumpur\n",
      "2           3         Bahrain International Circuit        Sakhir\n",
      "3           4        Circuit de Barcelona-Catalunya      Montmeló\n",
      "4           5                         Istanbul Park      Istanbul\n",
      "..        ...                                   ...           ...\n",
      "72         75    Autódromo Internacional do Algarve      Portimão\n",
      "73         76  Autodromo Internazionale del Mugello       Mugello\n",
      "74         77               Jeddah Corniche Circuit        Jeddah\n",
      "75         78          Losail International Circuit     Al Daayen\n",
      "76         79         Miami International Autodrome         Miami\n",
      "\n",
      "[77 rows x 3 columns]\n"
     ]
    }
   ],
   "source": [
    "print(races_raw[[\"raceId\",\"year\",\"circuitId\"]])\n",
    "\n",
    "print(circuits[[\"circuitId\",\"circuit_name\", \"location\"]])"
   ]
  },
  {
   "cell_type": "code",
   "execution_count": 18,
   "metadata": {},
   "outputs": [],
   "source": [
    "# The \"pd.merge()\" command combines the information from both datasets\n",
    "# The first argument is the \"primary\" datasets\n",
    "# The second argument is the \"secondary\" dataset (much include the \"on\" column)\n",
    "# The \"on\" is the common variable that is used for merging\n",
    "# how = \"left\" tells Python that the left dataset is the primary one\n",
    "\n",
    "races_merge = pd.merge(races_raw[['raceId', 'year', 'circuitId']],\n",
    "                       circuits[[\"circuitId\",\"circuit_name\", \"location\"]],\n",
    "                       on = \"circuitId\",\n",
    "                       how = \"left\")"
   ]
  },
  {
   "cell_type": "code",
   "execution_count": 23,
   "metadata": {},
   "outputs": [
    {
     "data": {
      "application/vnd.microsoft.datawrangler.viewer.v0+json": {
       "columns": [
        {
         "name": "index",
         "rawType": "int64",
         "type": "integer"
        },
        {
         "name": "raceId",
         "rawType": "int64",
         "type": "integer"
        },
        {
         "name": "year",
         "rawType": "int64",
         "type": "integer"
        },
        {
         "name": "circuitId",
         "rawType": "int64",
         "type": "integer"
        },
        {
         "name": "circuit_name",
         "rawType": "object",
         "type": "string"
        },
        {
         "name": "location",
         "rawType": "object",
         "type": "string"
        }
       ],
       "ref": "94801a67-0283-487a-986c-e72ce483c386",
       "rows": [
        [
         "0",
         "1",
         "2009",
         "1",
         "Albert Park Grand Prix Circuit",
         "Melbourne"
        ],
        [
         "1",
         "2",
         "2009",
         "2",
         "Sepang International Circuit",
         "Kuala Lumpur"
        ],
        [
         "2",
         "3",
         "2009",
         "17",
         "Shanghai International Circuit",
         "Shanghai"
        ],
        [
         "3",
         "4",
         "2009",
         "3",
         "Bahrain International Circuit",
         "Sakhir"
        ],
        [
         "4",
         "5",
         "2009",
         "4",
         "Circuit de Barcelona-Catalunya",
         "Montmeló"
        ],
        [
         "5",
         "6",
         "2009",
         "6",
         "Circuit de Monaco",
         "Monte-Carlo"
        ],
        [
         "6",
         "7",
         "2009",
         "5",
         "Istanbul Park",
         "Istanbul"
        ],
        [
         "7",
         "8",
         "2009",
         "9",
         "Silverstone Circuit",
         "Silverstone"
        ],
        [
         "8",
         "9",
         "2009",
         "20",
         "Nürburgring",
         "Nürburg"
        ],
        [
         "9",
         "10",
         "2009",
         "11",
         "Hungaroring",
         "Budapest"
        ],
        [
         "10",
         "11",
         "2009",
         "12",
         "Valencia Street Circuit",
         "Valencia"
        ],
        [
         "11",
         "12",
         "2009",
         "13",
         "Circuit de Spa-Francorchamps",
         "Spa"
        ],
        [
         "12",
         "13",
         "2009",
         "14",
         "Autodromo Nazionale di Monza",
         "Monza"
        ],
        [
         "13",
         "14",
         "2009",
         "15",
         "Marina Bay Street Circuit",
         "Marina Bay"
        ],
        [
         "14",
         "15",
         "2009",
         "22",
         "Suzuka Circuit",
         "Suzuka"
        ],
        [
         "15",
         "16",
         "2009",
         "18",
         "Autódromo José Carlos Pace",
         "São Paulo"
        ],
        [
         "16",
         "17",
         "2009",
         "24",
         "Yas Marina Circuit",
         "Abu Dhabi"
        ],
        [
         "17",
         "18",
         "2008",
         "1",
         "Albert Park Grand Prix Circuit",
         "Melbourne"
        ],
        [
         "18",
         "19",
         "2008",
         "2",
         "Sepang International Circuit",
         "Kuala Lumpur"
        ],
        [
         "19",
         "20",
         "2008",
         "3",
         "Bahrain International Circuit",
         "Sakhir"
        ],
        [
         "20",
         "21",
         "2008",
         "4",
         "Circuit de Barcelona-Catalunya",
         "Montmeló"
        ],
        [
         "21",
         "22",
         "2008",
         "5",
         "Istanbul Park",
         "Istanbul"
        ],
        [
         "22",
         "23",
         "2008",
         "6",
         "Circuit de Monaco",
         "Monte-Carlo"
        ],
        [
         "23",
         "24",
         "2008",
         "7",
         "Circuit Gilles Villeneuve",
         "Montreal"
        ],
        [
         "24",
         "25",
         "2008",
         "8",
         "Circuit de Nevers Magny-Cours",
         "Magny Cours"
        ],
        [
         "25",
         "26",
         "2008",
         "9",
         "Silverstone Circuit",
         "Silverstone"
        ],
        [
         "26",
         "27",
         "2008",
         "10",
         "Hockenheimring",
         "Hockenheim"
        ],
        [
         "27",
         "28",
         "2008",
         "11",
         "Hungaroring",
         "Budapest"
        ],
        [
         "28",
         "29",
         "2008",
         "12",
         "Valencia Street Circuit",
         "Valencia"
        ],
        [
         "29",
         "30",
         "2008",
         "13",
         "Circuit de Spa-Francorchamps",
         "Spa"
        ],
        [
         "30",
         "31",
         "2008",
         "14",
         "Autodromo Nazionale di Monza",
         "Monza"
        ],
        [
         "31",
         "32",
         "2008",
         "15",
         "Marina Bay Street Circuit",
         "Marina Bay"
        ],
        [
         "32",
         "33",
         "2008",
         "16",
         "Fuji Speedway",
         "Oyama"
        ],
        [
         "33",
         "34",
         "2008",
         "17",
         "Shanghai International Circuit",
         "Shanghai"
        ],
        [
         "34",
         "35",
         "2008",
         "18",
         "Autódromo José Carlos Pace",
         "São Paulo"
        ],
        [
         "35",
         "36",
         "2007",
         "1",
         "Albert Park Grand Prix Circuit",
         "Melbourne"
        ],
        [
         "36",
         "37",
         "2007",
         "2",
         "Sepang International Circuit",
         "Kuala Lumpur"
        ],
        [
         "37",
         "38",
         "2007",
         "3",
         "Bahrain International Circuit",
         "Sakhir"
        ],
        [
         "38",
         "39",
         "2007",
         "4",
         "Circuit de Barcelona-Catalunya",
         "Montmeló"
        ],
        [
         "39",
         "40",
         "2007",
         "6",
         "Circuit de Monaco",
         "Monte-Carlo"
        ],
        [
         "40",
         "41",
         "2007",
         "7",
         "Circuit Gilles Villeneuve",
         "Montreal"
        ],
        [
         "41",
         "42",
         "2007",
         "19",
         "Indianapolis Motor Speedway",
         "Indianapolis"
        ],
        [
         "42",
         "43",
         "2007",
         "8",
         "Circuit de Nevers Magny-Cours",
         "Magny Cours"
        ],
        [
         "43",
         "44",
         "2007",
         "9",
         "Silverstone Circuit",
         "Silverstone"
        ],
        [
         "44",
         "45",
         "2007",
         "20",
         "Nürburgring",
         "Nürburg"
        ],
        [
         "45",
         "46",
         "2007",
         "11",
         "Hungaroring",
         "Budapest"
        ],
        [
         "46",
         "47",
         "2007",
         "5",
         "Istanbul Park",
         "Istanbul"
        ],
        [
         "47",
         "48",
         "2007",
         "14",
         "Autodromo Nazionale di Monza",
         "Monza"
        ],
        [
         "48",
         "49",
         "2007",
         "13",
         "Circuit de Spa-Francorchamps",
         "Spa"
        ],
        [
         "49",
         "50",
         "2007",
         "16",
         "Fuji Speedway",
         "Oyama"
        ]
       ],
       "shape": {
        "columns": 5,
        "rows": 1102
       }
      },
      "text/html": [
       "<div>\n",
       "<style scoped>\n",
       "    .dataframe tbody tr th:only-of-type {\n",
       "        vertical-align: middle;\n",
       "    }\n",
       "\n",
       "    .dataframe tbody tr th {\n",
       "        vertical-align: top;\n",
       "    }\n",
       "\n",
       "    .dataframe thead th {\n",
       "        text-align: right;\n",
       "    }\n",
       "</style>\n",
       "<table border=\"1\" class=\"dataframe\">\n",
       "  <thead>\n",
       "    <tr style=\"text-align: right;\">\n",
       "      <th></th>\n",
       "      <th>raceId</th>\n",
       "      <th>year</th>\n",
       "      <th>circuitId</th>\n",
       "      <th>circuit_name</th>\n",
       "      <th>location</th>\n",
       "    </tr>\n",
       "  </thead>\n",
       "  <tbody>\n",
       "    <tr>\n",
       "      <th>0</th>\n",
       "      <td>1</td>\n",
       "      <td>2009</td>\n",
       "      <td>1</td>\n",
       "      <td>Albert Park Grand Prix Circuit</td>\n",
       "      <td>Melbourne</td>\n",
       "    </tr>\n",
       "    <tr>\n",
       "      <th>1</th>\n",
       "      <td>2</td>\n",
       "      <td>2009</td>\n",
       "      <td>2</td>\n",
       "      <td>Sepang International Circuit</td>\n",
       "      <td>Kuala Lumpur</td>\n",
       "    </tr>\n",
       "    <tr>\n",
       "      <th>2</th>\n",
       "      <td>3</td>\n",
       "      <td>2009</td>\n",
       "      <td>17</td>\n",
       "      <td>Shanghai International Circuit</td>\n",
       "      <td>Shanghai</td>\n",
       "    </tr>\n",
       "    <tr>\n",
       "      <th>3</th>\n",
       "      <td>4</td>\n",
       "      <td>2009</td>\n",
       "      <td>3</td>\n",
       "      <td>Bahrain International Circuit</td>\n",
       "      <td>Sakhir</td>\n",
       "    </tr>\n",
       "    <tr>\n",
       "      <th>4</th>\n",
       "      <td>5</td>\n",
       "      <td>2009</td>\n",
       "      <td>4</td>\n",
       "      <td>Circuit de Barcelona-Catalunya</td>\n",
       "      <td>Montmeló</td>\n",
       "    </tr>\n",
       "    <tr>\n",
       "      <th>...</th>\n",
       "      <td>...</td>\n",
       "      <td>...</td>\n",
       "      <td>...</td>\n",
       "      <td>...</td>\n",
       "      <td>...</td>\n",
       "    </tr>\n",
       "    <tr>\n",
       "      <th>1097</th>\n",
       "      <td>1116</td>\n",
       "      <td>2023</td>\n",
       "      <td>69</td>\n",
       "      <td>Circuit of the Americas</td>\n",
       "      <td>Austin</td>\n",
       "    </tr>\n",
       "    <tr>\n",
       "      <th>1098</th>\n",
       "      <td>1117</td>\n",
       "      <td>2023</td>\n",
       "      <td>32</td>\n",
       "      <td>Autódromo Hermanos Rodríguez</td>\n",
       "      <td>Mexico City</td>\n",
       "    </tr>\n",
       "    <tr>\n",
       "      <th>1099</th>\n",
       "      <td>1118</td>\n",
       "      <td>2023</td>\n",
       "      <td>18</td>\n",
       "      <td>Autódromo José Carlos Pace</td>\n",
       "      <td>São Paulo</td>\n",
       "    </tr>\n",
       "    <tr>\n",
       "      <th>1100</th>\n",
       "      <td>1119</td>\n",
       "      <td>2023</td>\n",
       "      <td>80</td>\n",
       "      <td>Las Vegas Strip Street Circuit</td>\n",
       "      <td>Las Vegas</td>\n",
       "    </tr>\n",
       "    <tr>\n",
       "      <th>1101</th>\n",
       "      <td>1120</td>\n",
       "      <td>2023</td>\n",
       "      <td>24</td>\n",
       "      <td>Yas Marina Circuit</td>\n",
       "      <td>Abu Dhabi</td>\n",
       "    </tr>\n",
       "  </tbody>\n",
       "</table>\n",
       "<p>1102 rows × 5 columns</p>\n",
       "</div>"
      ],
      "text/plain": [
       "      raceId  year  circuitId                    circuit_name      location\n",
       "0          1  2009          1  Albert Park Grand Prix Circuit     Melbourne\n",
       "1          2  2009          2    Sepang International Circuit  Kuala Lumpur\n",
       "2          3  2009         17  Shanghai International Circuit      Shanghai\n",
       "3          4  2009          3   Bahrain International Circuit        Sakhir\n",
       "4          5  2009          4  Circuit de Barcelona-Catalunya      Montmeló\n",
       "...      ...   ...        ...                             ...           ...\n",
       "1097    1116  2023         69         Circuit of the Americas        Austin\n",
       "1098    1117  2023         32    Autódromo Hermanos Rodríguez   Mexico City\n",
       "1099    1118  2023         18      Autódromo José Carlos Pace     São Paulo\n",
       "1100    1119  2023         80  Las Vegas Strip Street Circuit     Las Vegas\n",
       "1101    1120  2023         24              Yas Marina Circuit     Abu Dhabi\n",
       "\n",
       "[1102 rows x 5 columns]"
      ]
     },
     "execution_count": 23,
     "metadata": {},
     "output_type": "execute_result"
    }
   ],
   "source": [
    "races_merge"
   ]
  },
  {
   "cell_type": "code",
   "execution_count": 25,
   "metadata": {},
   "outputs": [
    {
     "data": {
      "application/vnd.microsoft.datawrangler.viewer.v0+json": {
       "columns": [
        {
         "name": "index",
         "rawType": "int64",
         "type": "integer"
        },
        {
         "name": "raceId",
         "rawType": "int64",
         "type": "integer"
        },
        {
         "name": "year",
         "rawType": "int64",
         "type": "integer"
        },
        {
         "name": "circuitId",
         "rawType": "int64",
         "type": "integer"
        },
        {
         "name": "circuit_name",
         "rawType": "object",
         "type": "string"
        },
        {
         "name": "location",
         "rawType": "object",
         "type": "string"
        }
       ],
       "ref": "8e66c948-ff2c-4466-b114-2abb04ae70e0",
       "rows": [
        [
         "0",
         "1",
         "2009",
         "1",
         "Albert Park Grand Prix Circuit",
         "Melbourne"
        ],
        [
         "1",
         "18",
         "2008",
         "1",
         "Albert Park Grand Prix Circuit",
         "Melbourne"
        ],
        [
         "2",
         "36",
         "2007",
         "1",
         "Albert Park Grand Prix Circuit",
         "Melbourne"
        ],
        [
         "3",
         "55",
         "2006",
         "1",
         "Albert Park Grand Prix Circuit",
         "Melbourne"
        ],
        [
         "4",
         "71",
         "2005",
         "1",
         "Albert Park Grand Prix Circuit",
         "Melbourne"
        ],
        [
         "5",
         "90",
         "2004",
         "1",
         "Albert Park Grand Prix Circuit",
         "Melbourne"
        ],
        [
         "6",
         "108",
         "2003",
         "1",
         "Albert Park Grand Prix Circuit",
         "Melbourne"
        ],
        [
         "7",
         "124",
         "2002",
         "1",
         "Albert Park Grand Prix Circuit",
         "Melbourne"
        ],
        [
         "8",
         "141",
         "2001",
         "1",
         "Albert Park Grand Prix Circuit",
         "Melbourne"
        ],
        [
         "9",
         "158",
         "2000",
         "1",
         "Albert Park Grand Prix Circuit",
         "Melbourne"
        ],
        [
         "10",
         "175",
         "1999",
         "1",
         "Albert Park Grand Prix Circuit",
         "Melbourne"
        ],
        [
         "11",
         "191",
         "1998",
         "1",
         "Albert Park Grand Prix Circuit",
         "Melbourne"
        ],
        [
         "12",
         "207",
         "1997",
         "1",
         "Albert Park Grand Prix Circuit",
         "Melbourne"
        ],
        [
         "13",
         "224",
         "1996",
         "1",
         "Albert Park Grand Prix Circuit",
         "Melbourne"
        ],
        [
         "14",
         "338",
         "2010",
         "1",
         "Albert Park Grand Prix Circuit",
         "Melbourne"
        ],
        [
         "15",
         "841",
         "2011",
         "1",
         "Albert Park Grand Prix Circuit",
         "Melbourne"
        ],
        [
         "16",
         "860",
         "2012",
         "1",
         "Albert Park Grand Prix Circuit",
         "Melbourne"
        ],
        [
         "17",
         "880",
         "2013",
         "1",
         "Albert Park Grand Prix Circuit",
         "Melbourne"
        ],
        [
         "18",
         "900",
         "2014",
         "1",
         "Albert Park Grand Prix Circuit",
         "Melbourne"
        ],
        [
         "19",
         "926",
         "2015",
         "1",
         "Albert Park Grand Prix Circuit",
         "Melbourne"
        ],
        [
         "20",
         "948",
         "2016",
         "1",
         "Albert Park Grand Prix Circuit",
         "Melbourne"
        ],
        [
         "21",
         "969",
         "2017",
         "1",
         "Albert Park Grand Prix Circuit",
         "Melbourne"
        ],
        [
         "22",
         "989",
         "2018",
         "1",
         "Albert Park Grand Prix Circuit",
         "Melbourne"
        ],
        [
         "23",
         "1010",
         "2019",
         "1",
         "Albert Park Grand Prix Circuit",
         "Melbourne"
        ],
        [
         "24",
         "1076",
         "2022",
         "1",
         "Albert Park Grand Prix Circuit",
         "Melbourne"
        ],
        [
         "25",
         "1100",
         "2023",
         "1",
         "Albert Park Grand Prix Circuit",
         "Melbourne"
        ],
        [
         "26",
         "2",
         "2009",
         "2",
         "Sepang International Circuit",
         "Kuala Lumpur"
        ],
        [
         "27",
         "19",
         "2008",
         "2",
         "Sepang International Circuit",
         "Kuala Lumpur"
        ],
        [
         "28",
         "37",
         "2007",
         "2",
         "Sepang International Circuit",
         "Kuala Lumpur"
        ],
        [
         "29",
         "54",
         "2006",
         "2",
         "Sepang International Circuit",
         "Kuala Lumpur"
        ],
        [
         "30",
         "72",
         "2005",
         "2",
         "Sepang International Circuit",
         "Kuala Lumpur"
        ],
        [
         "31",
         "91",
         "2004",
         "2",
         "Sepang International Circuit",
         "Kuala Lumpur"
        ],
        [
         "32",
         "109",
         "2003",
         "2",
         "Sepang International Circuit",
         "Kuala Lumpur"
        ],
        [
         "33",
         "125",
         "2002",
         "2",
         "Sepang International Circuit",
         "Kuala Lumpur"
        ],
        [
         "34",
         "142",
         "2001",
         "2",
         "Sepang International Circuit",
         "Kuala Lumpur"
        ],
        [
         "35",
         "174",
         "2000",
         "2",
         "Sepang International Circuit",
         "Kuala Lumpur"
        ],
        [
         "36",
         "189",
         "1999",
         "2",
         "Sepang International Circuit",
         "Kuala Lumpur"
        ],
        [
         "37",
         "339",
         "2010",
         "2",
         "Sepang International Circuit",
         "Kuala Lumpur"
        ],
        [
         "38",
         "842",
         "2011",
         "2",
         "Sepang International Circuit",
         "Kuala Lumpur"
        ],
        [
         "39",
         "861",
         "2012",
         "2",
         "Sepang International Circuit",
         "Kuala Lumpur"
        ],
        [
         "40",
         "881",
         "2013",
         "2",
         "Sepang International Circuit",
         "Kuala Lumpur"
        ],
        [
         "41",
         "901",
         "2014",
         "2",
         "Sepang International Circuit",
         "Kuala Lumpur"
        ],
        [
         "42",
         "927",
         "2015",
         "2",
         "Sepang International Circuit",
         "Kuala Lumpur"
        ],
        [
         "43",
         "963",
         "2016",
         "2",
         "Sepang International Circuit",
         "Kuala Lumpur"
        ],
        [
         "44",
         "983",
         "2017",
         "2",
         "Sepang International Circuit",
         "Kuala Lumpur"
        ],
        [
         "45",
         "4",
         "2009",
         "3",
         "Bahrain International Circuit",
         "Sakhir"
        ],
        [
         "46",
         "20",
         "2008",
         "3",
         "Bahrain International Circuit",
         "Sakhir"
        ],
        [
         "47",
         "38",
         "2007",
         "3",
         "Bahrain International Circuit",
         "Sakhir"
        ],
        [
         "48",
         "53",
         "2006",
         "3",
         "Bahrain International Circuit",
         "Sakhir"
        ],
        [
         "49",
         "73",
         "2005",
         "3",
         "Bahrain International Circuit",
         "Sakhir"
        ]
       ],
       "shape": {
        "columns": 5,
        "rows": 1102
       }
      },
      "text/html": [
       "<div>\n",
       "<style scoped>\n",
       "    .dataframe tbody tr th:only-of-type {\n",
       "        vertical-align: middle;\n",
       "    }\n",
       "\n",
       "    .dataframe tbody tr th {\n",
       "        vertical-align: top;\n",
       "    }\n",
       "\n",
       "    .dataframe thead th {\n",
       "        text-align: right;\n",
       "    }\n",
       "</style>\n",
       "<table border=\"1\" class=\"dataframe\">\n",
       "  <thead>\n",
       "    <tr style=\"text-align: right;\">\n",
       "      <th></th>\n",
       "      <th>raceId</th>\n",
       "      <th>year</th>\n",
       "      <th>circuitId</th>\n",
       "      <th>circuit_name</th>\n",
       "      <th>location</th>\n",
       "    </tr>\n",
       "  </thead>\n",
       "  <tbody>\n",
       "    <tr>\n",
       "      <th>0</th>\n",
       "      <td>1</td>\n",
       "      <td>2009</td>\n",
       "      <td>1</td>\n",
       "      <td>Albert Park Grand Prix Circuit</td>\n",
       "      <td>Melbourne</td>\n",
       "    </tr>\n",
       "    <tr>\n",
       "      <th>1</th>\n",
       "      <td>18</td>\n",
       "      <td>2008</td>\n",
       "      <td>1</td>\n",
       "      <td>Albert Park Grand Prix Circuit</td>\n",
       "      <td>Melbourne</td>\n",
       "    </tr>\n",
       "    <tr>\n",
       "      <th>2</th>\n",
       "      <td>36</td>\n",
       "      <td>2007</td>\n",
       "      <td>1</td>\n",
       "      <td>Albert Park Grand Prix Circuit</td>\n",
       "      <td>Melbourne</td>\n",
       "    </tr>\n",
       "    <tr>\n",
       "      <th>3</th>\n",
       "      <td>55</td>\n",
       "      <td>2006</td>\n",
       "      <td>1</td>\n",
       "      <td>Albert Park Grand Prix Circuit</td>\n",
       "      <td>Melbourne</td>\n",
       "    </tr>\n",
       "    <tr>\n",
       "      <th>4</th>\n",
       "      <td>71</td>\n",
       "      <td>2005</td>\n",
       "      <td>1</td>\n",
       "      <td>Albert Park Grand Prix Circuit</td>\n",
       "      <td>Melbourne</td>\n",
       "    </tr>\n",
       "    <tr>\n",
       "      <th>...</th>\n",
       "      <td>...</td>\n",
       "      <td>...</td>\n",
       "      <td>...</td>\n",
       "      <td>...</td>\n",
       "      <td>...</td>\n",
       "    </tr>\n",
       "    <tr>\n",
       "      <th>1097</th>\n",
       "      <td>1099</td>\n",
       "      <td>2023</td>\n",
       "      <td>77</td>\n",
       "      <td>Jeddah Corniche Circuit</td>\n",
       "      <td>Jeddah</td>\n",
       "    </tr>\n",
       "    <tr>\n",
       "      <th>1098</th>\n",
       "      <td>1051</td>\n",
       "      <td>2021</td>\n",
       "      <td>78</td>\n",
       "      <td>Losail International Circuit</td>\n",
       "      <td>Al Daayen</td>\n",
       "    </tr>\n",
       "    <tr>\n",
       "      <th>1099</th>\n",
       "      <td>1115</td>\n",
       "      <td>2023</td>\n",
       "      <td>78</td>\n",
       "      <td>Losail International Circuit</td>\n",
       "      <td>Al Daayen</td>\n",
       "    </tr>\n",
       "    <tr>\n",
       "      <th>1100</th>\n",
       "      <td>1078</td>\n",
       "      <td>2022</td>\n",
       "      <td>79</td>\n",
       "      <td>Miami International Autodrome</td>\n",
       "      <td>Miami</td>\n",
       "    </tr>\n",
       "    <tr>\n",
       "      <th>1101</th>\n",
       "      <td>1102</td>\n",
       "      <td>2023</td>\n",
       "      <td>79</td>\n",
       "      <td>Miami International Autodrome</td>\n",
       "      <td>Miami</td>\n",
       "    </tr>\n",
       "  </tbody>\n",
       "</table>\n",
       "<p>1102 rows × 5 columns</p>\n",
       "</div>"
      ],
      "text/plain": [
       "      raceId  year  circuitId                    circuit_name   location\n",
       "0          1  2009          1  Albert Park Grand Prix Circuit  Melbourne\n",
       "1         18  2008          1  Albert Park Grand Prix Circuit  Melbourne\n",
       "2         36  2007          1  Albert Park Grand Prix Circuit  Melbourne\n",
       "3         55  2006          1  Albert Park Grand Prix Circuit  Melbourne\n",
       "4         71  2005          1  Albert Park Grand Prix Circuit  Melbourne\n",
       "...      ...   ...        ...                             ...        ...\n",
       "1097    1099  2023         77         Jeddah Corniche Circuit     Jeddah\n",
       "1098    1051  2021         78    Losail International Circuit  Al Daayen\n",
       "1099    1115  2023         78    Losail International Circuit  Al Daayen\n",
       "1100    1078  2022         79   Miami International Autodrome      Miami\n",
       "1101    1102  2023         79   Miami International Autodrome      Miami\n",
       "\n",
       "[1102 rows x 5 columns]"
      ]
     },
     "execution_count": 25,
     "metadata": {},
     "output_type": "execute_result"
    }
   ],
   "source": [
    "races_merge2 = pd.merge(races_raw[['raceId', 'year', 'circuitId']],\n",
    "                       circuits[[\"circuitId\",\"circuit_name\", \"location\"]],\n",
    "                       on = \"circuitId\",\n",
    "                       how = \"right\")\n",
    "races_merge2"
   ]
  },
  {
   "cell_type": "code",
   "execution_count": 24,
   "metadata": {},
   "outputs": [],
   "source": [
    "# Another example of merging\n",
    "\n",
    "results_merge = pd.merge(results_raw,\n",
    "                         races_raw[[\"raceId\",\"date\"]],\n",
    "                         on = \"raceId\",\n",
    "                         how = \"left\")"
   ]
  },
  {
   "attachments": {},
   "cell_type": "markdown",
   "metadata": {},
   "source": [
    "<font size = \"5\">\n",
    "<span style=\"color:red\"> Common pitfall: </span> What happens if you don't rename?"
   ]
  },
  {
   "cell_type": "code",
   "execution_count": 26,
   "metadata": {},
   "outputs": [
    {
     "data": {
      "application/vnd.microsoft.datawrangler.viewer.v0+json": {
       "columns": [
        {
         "name": "index",
         "rawType": "int64",
         "type": "integer"
        },
        {
         "name": "circuitId",
         "rawType": "int64",
         "type": "integer"
        },
        {
         "name": "name",
         "rawType": "object",
         "type": "string"
        }
       ],
       "ref": "20dcb060-0e9f-4caf-b292-36d678153e49",
       "rows": [
        [
         "0",
         "1",
         "Albert Park Grand Prix Circuit"
        ],
        [
         "1",
         "2",
         "Sepang International Circuit"
        ],
        [
         "2",
         "3",
         "Bahrain International Circuit"
        ],
        [
         "3",
         "4",
         "Circuit de Barcelona-Catalunya"
        ],
        [
         "4",
         "5",
         "Istanbul Park"
        ],
        [
         "5",
         "6",
         "Circuit de Monaco"
        ],
        [
         "6",
         "7",
         "Circuit Gilles Villeneuve"
        ],
        [
         "7",
         "8",
         "Circuit de Nevers Magny-Cours"
        ],
        [
         "8",
         "9",
         "Silverstone Circuit"
        ],
        [
         "9",
         "10",
         "Hockenheimring"
        ],
        [
         "10",
         "11",
         "Hungaroring"
        ],
        [
         "11",
         "12",
         "Valencia Street Circuit"
        ],
        [
         "12",
         "13",
         "Circuit de Spa-Francorchamps"
        ],
        [
         "13",
         "14",
         "Autodromo Nazionale di Monza"
        ],
        [
         "14",
         "15",
         "Marina Bay Street Circuit"
        ],
        [
         "15",
         "16",
         "Fuji Speedway"
        ],
        [
         "16",
         "17",
         "Shanghai International Circuit"
        ],
        [
         "17",
         "18",
         "Autódromo José Carlos Pace"
        ],
        [
         "18",
         "19",
         "Indianapolis Motor Speedway"
        ],
        [
         "19",
         "20",
         "Nürburgring"
        ],
        [
         "20",
         "21",
         "Autodromo Enzo e Dino Ferrari"
        ],
        [
         "21",
         "22",
         "Suzuka Circuit"
        ],
        [
         "22",
         "80",
         "Las Vegas Strip Street Circuit"
        ],
        [
         "23",
         "24",
         "Yas Marina Circuit"
        ],
        [
         "24",
         "25",
         "Autódromo Juan y Oscar Gálvez"
        ],
        [
         "25",
         "26",
         "Circuito de Jerez"
        ],
        [
         "26",
         "27",
         "Autódromo do Estoril"
        ],
        [
         "27",
         "28",
         "Okayama International Circuit"
        ],
        [
         "28",
         "29",
         "Adelaide Street Circuit"
        ],
        [
         "29",
         "30",
         "Kyalami"
        ],
        [
         "30",
         "31",
         "Donington Park"
        ],
        [
         "31",
         "32",
         "Autódromo Hermanos Rodríguez"
        ],
        [
         "32",
         "33",
         "Phoenix street circuit"
        ],
        [
         "33",
         "34",
         "Circuit Paul Ricard"
        ],
        [
         "34",
         "35",
         "Korean International Circuit"
        ],
        [
         "35",
         "36",
         "Autódromo Internacional Nelson Piquet"
        ],
        [
         "36",
         "37",
         "Detroit Street Circuit"
        ],
        [
         "37",
         "38",
         "Brands Hatch"
        ],
        [
         "38",
         "39",
         "Circuit Park Zandvoort"
        ],
        [
         "39",
         "40",
         "Zolder"
        ],
        [
         "40",
         "41",
         "Dijon-Prenois"
        ],
        [
         "41",
         "42",
         "Fair Park"
        ],
        [
         "42",
         "43",
         "Long Beach"
        ],
        [
         "43",
         "44",
         "Las Vegas Street Circuit"
        ],
        [
         "44",
         "45",
         "Jarama"
        ],
        [
         "45",
         "46",
         "Watkins Glen"
        ],
        [
         "46",
         "47",
         "Scandinavian Raceway"
        ],
        [
         "47",
         "48",
         "Mosport International Raceway"
        ],
        [
         "48",
         "49",
         "Montjuïc"
        ],
        [
         "49",
         "50",
         "Nivelles-Baulers"
        ]
       ],
       "shape": {
        "columns": 2,
        "rows": 77
       }
      },
      "text/html": [
       "<div>\n",
       "<style scoped>\n",
       "    .dataframe tbody tr th:only-of-type {\n",
       "        vertical-align: middle;\n",
       "    }\n",
       "\n",
       "    .dataframe tbody tr th {\n",
       "        vertical-align: top;\n",
       "    }\n",
       "\n",
       "    .dataframe thead th {\n",
       "        text-align: right;\n",
       "    }\n",
       "</style>\n",
       "<table border=\"1\" class=\"dataframe\">\n",
       "  <thead>\n",
       "    <tr style=\"text-align: right;\">\n",
       "      <th></th>\n",
       "      <th>circuitId</th>\n",
       "      <th>name</th>\n",
       "    </tr>\n",
       "  </thead>\n",
       "  <tbody>\n",
       "    <tr>\n",
       "      <th>0</th>\n",
       "      <td>1</td>\n",
       "      <td>Albert Park Grand Prix Circuit</td>\n",
       "    </tr>\n",
       "    <tr>\n",
       "      <th>1</th>\n",
       "      <td>2</td>\n",
       "      <td>Sepang International Circuit</td>\n",
       "    </tr>\n",
       "    <tr>\n",
       "      <th>2</th>\n",
       "      <td>3</td>\n",
       "      <td>Bahrain International Circuit</td>\n",
       "    </tr>\n",
       "    <tr>\n",
       "      <th>3</th>\n",
       "      <td>4</td>\n",
       "      <td>Circuit de Barcelona-Catalunya</td>\n",
       "    </tr>\n",
       "    <tr>\n",
       "      <th>4</th>\n",
       "      <td>5</td>\n",
       "      <td>Istanbul Park</td>\n",
       "    </tr>\n",
       "    <tr>\n",
       "      <th>...</th>\n",
       "      <td>...</td>\n",
       "      <td>...</td>\n",
       "    </tr>\n",
       "    <tr>\n",
       "      <th>72</th>\n",
       "      <td>75</td>\n",
       "      <td>Autódromo Internacional do Algarve</td>\n",
       "    </tr>\n",
       "    <tr>\n",
       "      <th>73</th>\n",
       "      <td>76</td>\n",
       "      <td>Autodromo Internazionale del Mugello</td>\n",
       "    </tr>\n",
       "    <tr>\n",
       "      <th>74</th>\n",
       "      <td>77</td>\n",
       "      <td>Jeddah Corniche Circuit</td>\n",
       "    </tr>\n",
       "    <tr>\n",
       "      <th>75</th>\n",
       "      <td>78</td>\n",
       "      <td>Losail International Circuit</td>\n",
       "    </tr>\n",
       "    <tr>\n",
       "      <th>76</th>\n",
       "      <td>79</td>\n",
       "      <td>Miami International Autodrome</td>\n",
       "    </tr>\n",
       "  </tbody>\n",
       "</table>\n",
       "<p>77 rows × 2 columns</p>\n",
       "</div>"
      ],
      "text/plain": [
       "    circuitId                                  name\n",
       "0           1        Albert Park Grand Prix Circuit\n",
       "1           2          Sepang International Circuit\n",
       "2           3         Bahrain International Circuit\n",
       "3           4        Circuit de Barcelona-Catalunya\n",
       "4           5                         Istanbul Park\n",
       "..        ...                                   ...\n",
       "72         75    Autódromo Internacional do Algarve\n",
       "73         76  Autodromo Internazionale del Mugello\n",
       "74         77               Jeddah Corniche Circuit\n",
       "75         78          Losail International Circuit\n",
       "76         79         Miami International Autodrome\n",
       "\n",
       "[77 rows x 2 columns]"
      ]
     },
     "execution_count": 26,
     "metadata": {},
     "output_type": "execute_result"
    }
   ],
   "source": [
    "circuits_raw[[\"circuitId\",\"name\"]]"
   ]
  },
  {
   "cell_type": "code",
   "execution_count": 27,
   "metadata": {},
   "outputs": [
    {
     "name": "stdout",
     "output_type": "stream",
     "text": [
      "['raceId' 'year' 'round' 'circuitId' 'name_x' 'date' 'time' 'url'\n",
      " 'fp1_date' 'fp1_time' 'fp2_date' 'fp2_time' 'fp3_date' 'fp3_time'\n",
      " 'quali_date' 'quali_time' 'sprint_date' 'sprint_time' 'name_y']\n"
     ]
    }
   ],
   "source": [
    "# The following code merges the raw data\n",
    "# which has the \"name\" column in \"races_raw\" and \"circuits_raw\"\n",
    "\n",
    "races_merge_pitfall = pd.merge(races_raw,\n",
    "                               circuits_raw[[\"circuitId\",\"name\"]],\n",
    "                               on = \"circuitId\",\n",
    "                               how = \"left\")\n",
    "\n",
    "# Python will internally rename the columns \"name_x\" (for the left dataset)\n",
    "# and \"name_y\" (for the right dataset)\n",
    "\n",
    "print(races_merge_pitfall.columns.values)\n"
   ]
  },
  {
   "attachments": {},
   "cell_type": "markdown",
   "metadata": {},
   "source": [
    "<font size = \"5\">\n",
    "\n",
    "Try it yourself!\n",
    "\n",
    "- Rename the columns \"name_x\" and \"name_y\" <br>\n",
    "in the dataset \"races_merge_pitfall\" to <br>\n",
    " \"race_name\" and \"circuit_name\"\n",
    "\n",
    "$\\quad$ HINT: Create a dictionary and use \".rename()\""
   ]
  },
  {
   "cell_type": "code",
   "execution_count": 43,
   "metadata": {},
   "outputs": [],
   "source": [
    "# Write your own code\n",
    "\n",
    "\n",
    "\n"
   ]
  },
  {
   "attachments": {},
   "cell_type": "markdown",
   "metadata": {},
   "source": [
    "<font size = \"5\">\n",
    "\n",
    "Try it yourself!\n",
    "\n",
    "- Merge the column \"alt\", \"lng\", and \"lat\" into the races data <br>\n",
    "using \"pd.merge()"
   ]
  },
  {
   "cell_type": "code",
   "execution_count": 44,
   "metadata": {},
   "outputs": [],
   "source": [
    "# Write your own code\n",
    "\n",
    "\n",
    "\n",
    "\n"
   ]
  },
  {
   "attachments": {},
   "cell_type": "markdown",
   "metadata": {},
   "source": [
    "# <span style=\"color:darkblue\"> III. Concat </span>\n"
   ]
  },
  {
   "attachments": {},
   "cell_type": "markdown",
   "metadata": {},
   "source": [
    "<font size = \"5\">\n",
    "\n",
    "Use \".query()\" to split data into different parts"
   ]
  },
  {
   "cell_type": "code",
   "execution_count": 28,
   "metadata": {},
   "outputs": [
    {
     "data": {
      "text/plain": [
       "array(['Australia', 'Malaysia', 'Bahrain', 'Spain', 'Turkey', 'Monaco',\n",
       "       'Canada', 'France', 'UK', 'Germany', 'Hungary', 'Belgium', 'Italy',\n",
       "       'Singapore', 'Japan', 'China', 'Brazil', 'USA', 'United States',\n",
       "       'UAE', 'Argentina', 'Portugal', 'South Africa', 'Mexico', 'Korea',\n",
       "       'Netherlands', 'Sweden', 'Austria', 'Morocco', 'Switzerland',\n",
       "       'India', 'Russia', 'Azerbaijan', 'Saudi Arabia', 'Qatar'],\n",
       "      dtype=object)"
      ]
     },
     "execution_count": 28,
     "metadata": {},
     "output_type": "execute_result"
    }
   ],
   "source": [
    "circuits['country'].unique()"
   ]
  },
  {
   "cell_type": "code",
   "execution_count": 29,
   "metadata": {},
   "outputs": [],
   "source": [
    "circuits_spain    = circuits.query('country == \"Spain\"')\n",
    "circuits_usa      = circuits.query('country == \"United States\" | country == \"USA\"')\n",
    "circuits_malaysia = circuits.query('country == \"Malaysia\"')"
   ]
  },
  {
   "attachments": {},
   "cell_type": "markdown",
   "metadata": {},
   "source": [
    "<font size = \"5\">\n",
    "\n",
    "Cocatenate data back together\n",
    "\n",
    "- Useful if there are datasets split by geography...\n",
    "- year, or other subgroup"
   ]
  },
  {
   "cell_type": "code",
   "execution_count": 47,
   "metadata": {},
   "outputs": [],
   "source": [
    "# Works best if columns are identical\n",
    "# There are also other advanced options if they are not \n",
    "# https://pandas.pydata.org/docs/reference/api/pandas.concat.html\n",
    "\n",
    "circuits_concat = pd.concat([circuits_spain,circuits_usa, circuits_malaysia])\n"
   ]
  },
  {
   "cell_type": "code",
   "execution_count": 48,
   "metadata": {},
   "outputs": [],
   "source": [
    "circuits_spain_drop = circuits_spain.drop(columns=['circuitRef', 'location'])"
   ]
  },
  {
   "cell_type": "code",
   "execution_count": 49,
   "metadata": {},
   "outputs": [
    {
     "data": {
      "text/html": [
       "<div>\n",
       "<style scoped>\n",
       "    .dataframe tbody tr th:only-of-type {\n",
       "        vertical-align: middle;\n",
       "    }\n",
       "\n",
       "    .dataframe tbody tr th {\n",
       "        vertical-align: top;\n",
       "    }\n",
       "\n",
       "    .dataframe thead th {\n",
       "        text-align: right;\n",
       "    }\n",
       "</style>\n",
       "<table border=\"1\" class=\"dataframe\">\n",
       "  <thead>\n",
       "    <tr style=\"text-align: right;\">\n",
       "      <th></th>\n",
       "      <th>circuitId</th>\n",
       "      <th>circuitRef</th>\n",
       "      <th>circuit_name</th>\n",
       "      <th>location</th>\n",
       "      <th>country</th>\n",
       "      <th>lat</th>\n",
       "      <th>lng</th>\n",
       "      <th>alt</th>\n",
       "      <th>url</th>\n",
       "    </tr>\n",
       "  </thead>\n",
       "  <tbody>\n",
       "    <tr>\n",
       "      <th>3</th>\n",
       "      <td>4</td>\n",
       "      <td>catalunya</td>\n",
       "      <td>Circuit de Barcelona-Catalunya</td>\n",
       "      <td>Montmeló</td>\n",
       "      <td>Spain</td>\n",
       "      <td>41.5700</td>\n",
       "      <td>2.261110</td>\n",
       "      <td>109</td>\n",
       "      <td>http://en.wikipedia.org/wiki/Circuit_de_Barcel...</td>\n",
       "    </tr>\n",
       "    <tr>\n",
       "      <th>11</th>\n",
       "      <td>12</td>\n",
       "      <td>valencia</td>\n",
       "      <td>Valencia Street Circuit</td>\n",
       "      <td>Valencia</td>\n",
       "      <td>Spain</td>\n",
       "      <td>39.4589</td>\n",
       "      <td>-0.331667</td>\n",
       "      <td>4</td>\n",
       "      <td>http://en.wikipedia.org/wiki/Valencia_Street_C...</td>\n",
       "    </tr>\n",
       "    <tr>\n",
       "      <th>25</th>\n",
       "      <td>26</td>\n",
       "      <td>jerez</td>\n",
       "      <td>Circuito de Jerez</td>\n",
       "      <td>Jerez de la Frontera</td>\n",
       "      <td>Spain</td>\n",
       "      <td>36.7083</td>\n",
       "      <td>-6.034170</td>\n",
       "      <td>37</td>\n",
       "      <td>http://en.wikipedia.org/wiki/Circuito_Permanen...</td>\n",
       "    </tr>\n",
       "    <tr>\n",
       "      <th>44</th>\n",
       "      <td>45</td>\n",
       "      <td>jarama</td>\n",
       "      <td>Jarama</td>\n",
       "      <td>Madrid</td>\n",
       "      <td>Spain</td>\n",
       "      <td>40.6171</td>\n",
       "      <td>-3.585580</td>\n",
       "      <td>609</td>\n",
       "      <td>http://en.wikipedia.org/wiki/Circuito_Permanen...</td>\n",
       "    </tr>\n",
       "    <tr>\n",
       "      <th>48</th>\n",
       "      <td>49</td>\n",
       "      <td>montjuic</td>\n",
       "      <td>Montjuïc</td>\n",
       "      <td>Barcelona</td>\n",
       "      <td>Spain</td>\n",
       "      <td>41.3664</td>\n",
       "      <td>2.151670</td>\n",
       "      <td>79</td>\n",
       "      <td>http://en.wikipedia.org/wiki/Montju%C3%AFc_cir...</td>\n",
       "    </tr>\n",
       "    <tr>\n",
       "      <th>66</th>\n",
       "      <td>67</td>\n",
       "      <td>pedralbes</td>\n",
       "      <td>Circuit de Pedralbes</td>\n",
       "      <td>Barcelona</td>\n",
       "      <td>Spain</td>\n",
       "      <td>41.3903</td>\n",
       "      <td>2.116670</td>\n",
       "      <td>85</td>\n",
       "      <td>http://en.wikipedia.org/wiki/Pedralbes_Circuit</td>\n",
       "    </tr>\n",
       "    <tr>\n",
       "      <th>18</th>\n",
       "      <td>19</td>\n",
       "      <td>indianapolis</td>\n",
       "      <td>Indianapolis Motor Speedway</td>\n",
       "      <td>Indianapolis</td>\n",
       "      <td>USA</td>\n",
       "      <td>39.7950</td>\n",
       "      <td>-86.234700</td>\n",
       "      <td>223</td>\n",
       "      <td>http://en.wikipedia.org/wiki/Indianapolis_Moto...</td>\n",
       "    </tr>\n",
       "    <tr>\n",
       "      <th>22</th>\n",
       "      <td>80</td>\n",
       "      <td>vegas</td>\n",
       "      <td>Las Vegas Strip Street Circuit</td>\n",
       "      <td>Las Vegas</td>\n",
       "      <td>United States</td>\n",
       "      <td>36.1147</td>\n",
       "      <td>-115.173000</td>\n",
       "      <td>\\N</td>\n",
       "      <td>https://en.wikipedia.org/wiki/Las_Vegas_Grand_...</td>\n",
       "    </tr>\n",
       "    <tr>\n",
       "      <th>32</th>\n",
       "      <td>33</td>\n",
       "      <td>phoenix</td>\n",
       "      <td>Phoenix street circuit</td>\n",
       "      <td>Phoenix</td>\n",
       "      <td>USA</td>\n",
       "      <td>33.4479</td>\n",
       "      <td>-112.075000</td>\n",
       "      <td>345</td>\n",
       "      <td>http://en.wikipedia.org/wiki/Phoenix_street_ci...</td>\n",
       "    </tr>\n",
       "    <tr>\n",
       "      <th>36</th>\n",
       "      <td>37</td>\n",
       "      <td>detroit</td>\n",
       "      <td>Detroit Street Circuit</td>\n",
       "      <td>Detroit</td>\n",
       "      <td>USA</td>\n",
       "      <td>42.3298</td>\n",
       "      <td>-83.040100</td>\n",
       "      <td>177</td>\n",
       "      <td>http://en.wikipedia.org/wiki/Detroit_street_ci...</td>\n",
       "    </tr>\n",
       "    <tr>\n",
       "      <th>41</th>\n",
       "      <td>42</td>\n",
       "      <td>dallas</td>\n",
       "      <td>Fair Park</td>\n",
       "      <td>Dallas</td>\n",
       "      <td>USA</td>\n",
       "      <td>32.7774</td>\n",
       "      <td>-96.758700</td>\n",
       "      <td>139</td>\n",
       "      <td>http://en.wikipedia.org/wiki/Fair_Park</td>\n",
       "    </tr>\n",
       "    <tr>\n",
       "      <th>42</th>\n",
       "      <td>43</td>\n",
       "      <td>long_beach</td>\n",
       "      <td>Long Beach</td>\n",
       "      <td>California</td>\n",
       "      <td>USA</td>\n",
       "      <td>33.7651</td>\n",
       "      <td>-118.189000</td>\n",
       "      <td>12</td>\n",
       "      <td>http://en.wikipedia.org/wiki/Long_Beach,_Calif...</td>\n",
       "    </tr>\n",
       "    <tr>\n",
       "      <th>43</th>\n",
       "      <td>44</td>\n",
       "      <td>las_vegas</td>\n",
       "      <td>Las Vegas Street Circuit</td>\n",
       "      <td>Nevada</td>\n",
       "      <td>USA</td>\n",
       "      <td>36.1162</td>\n",
       "      <td>-115.174000</td>\n",
       "      <td>639</td>\n",
       "      <td>http://en.wikipedia.org/wiki/Las_Vegas_Street_...</td>\n",
       "    </tr>\n",
       "    <tr>\n",
       "      <th>45</th>\n",
       "      <td>46</td>\n",
       "      <td>watkins_glen</td>\n",
       "      <td>Watkins Glen</td>\n",
       "      <td>New York State</td>\n",
       "      <td>USA</td>\n",
       "      <td>42.3369</td>\n",
       "      <td>-76.927200</td>\n",
       "      <td>485</td>\n",
       "      <td>http://en.wikipedia.org/wiki/Watkins_Glen_Inte...</td>\n",
       "    </tr>\n",
       "    <tr>\n",
       "      <th>59</th>\n",
       "      <td>60</td>\n",
       "      <td>riverside</td>\n",
       "      <td>Riverside International Raceway</td>\n",
       "      <td>California</td>\n",
       "      <td>USA</td>\n",
       "      <td>33.9370</td>\n",
       "      <td>-117.273000</td>\n",
       "      <td>470</td>\n",
       "      <td>http://en.wikipedia.org/wiki/Riverside_Interna...</td>\n",
       "    </tr>\n",
       "    <tr>\n",
       "      <th>62</th>\n",
       "      <td>63</td>\n",
       "      <td>sebring</td>\n",
       "      <td>Sebring International Raceway</td>\n",
       "      <td>Florida</td>\n",
       "      <td>USA</td>\n",
       "      <td>27.4547</td>\n",
       "      <td>-81.348300</td>\n",
       "      <td>18</td>\n",
       "      <td>http://en.wikipedia.org/wiki/Sebring_Raceway</td>\n",
       "    </tr>\n",
       "    <tr>\n",
       "      <th>68</th>\n",
       "      <td>69</td>\n",
       "      <td>americas</td>\n",
       "      <td>Circuit of the Americas</td>\n",
       "      <td>Austin</td>\n",
       "      <td>USA</td>\n",
       "      <td>30.1328</td>\n",
       "      <td>-97.641100</td>\n",
       "      <td>161</td>\n",
       "      <td>http://en.wikipedia.org/wiki/Circuit_of_the_Am...</td>\n",
       "    </tr>\n",
       "    <tr>\n",
       "      <th>76</th>\n",
       "      <td>79</td>\n",
       "      <td>miami</td>\n",
       "      <td>Miami International Autodrome</td>\n",
       "      <td>Miami</td>\n",
       "      <td>USA</td>\n",
       "      <td>25.9581</td>\n",
       "      <td>-80.238900</td>\n",
       "      <td>\\N</td>\n",
       "      <td>http://en.wikipedia.org/wiki/Miami_Internation...</td>\n",
       "    </tr>\n",
       "  </tbody>\n",
       "</table>\n",
       "</div>"
      ],
      "text/plain": [
       "    circuitId    circuitRef                     circuit_name  \\\n",
       "3           4     catalunya   Circuit de Barcelona-Catalunya   \n",
       "11         12      valencia          Valencia Street Circuit   \n",
       "25         26         jerez                Circuito de Jerez   \n",
       "44         45        jarama                           Jarama   \n",
       "48         49      montjuic                         Montjuïc   \n",
       "66         67     pedralbes             Circuit de Pedralbes   \n",
       "18         19  indianapolis      Indianapolis Motor Speedway   \n",
       "22         80         vegas   Las Vegas Strip Street Circuit   \n",
       "32         33       phoenix           Phoenix street circuit   \n",
       "36         37       detroit           Detroit Street Circuit   \n",
       "41         42        dallas                        Fair Park   \n",
       "42         43    long_beach                       Long Beach   \n",
       "43         44     las_vegas         Las Vegas Street Circuit   \n",
       "45         46  watkins_glen                     Watkins Glen   \n",
       "59         60     riverside  Riverside International Raceway   \n",
       "62         63       sebring    Sebring International Raceway   \n",
       "68         69      americas          Circuit of the Americas   \n",
       "76         79         miami    Miami International Autodrome   \n",
       "\n",
       "                location        country      lat         lng  alt  \\\n",
       "3               Montmeló          Spain  41.5700    2.261110  109   \n",
       "11              Valencia          Spain  39.4589   -0.331667    4   \n",
       "25  Jerez de la Frontera          Spain  36.7083   -6.034170   37   \n",
       "44                Madrid          Spain  40.6171   -3.585580  609   \n",
       "48             Barcelona          Spain  41.3664    2.151670   79   \n",
       "66             Barcelona          Spain  41.3903    2.116670   85   \n",
       "18          Indianapolis            USA  39.7950  -86.234700  223   \n",
       "22             Las Vegas  United States  36.1147 -115.173000   \\N   \n",
       "32               Phoenix            USA  33.4479 -112.075000  345   \n",
       "36               Detroit            USA  42.3298  -83.040100  177   \n",
       "41                Dallas            USA  32.7774  -96.758700  139   \n",
       "42            California            USA  33.7651 -118.189000   12   \n",
       "43                Nevada            USA  36.1162 -115.174000  639   \n",
       "45        New York State            USA  42.3369  -76.927200  485   \n",
       "59            California            USA  33.9370 -117.273000  470   \n",
       "62               Florida            USA  27.4547  -81.348300   18   \n",
       "68                Austin            USA  30.1328  -97.641100  161   \n",
       "76                 Miami            USA  25.9581  -80.238900   \\N   \n",
       "\n",
       "                                                  url  \n",
       "3   http://en.wikipedia.org/wiki/Circuit_de_Barcel...  \n",
       "11  http://en.wikipedia.org/wiki/Valencia_Street_C...  \n",
       "25  http://en.wikipedia.org/wiki/Circuito_Permanen...  \n",
       "44  http://en.wikipedia.org/wiki/Circuito_Permanen...  \n",
       "48  http://en.wikipedia.org/wiki/Montju%C3%AFc_cir...  \n",
       "66     http://en.wikipedia.org/wiki/Pedralbes_Circuit  \n",
       "18  http://en.wikipedia.org/wiki/Indianapolis_Moto...  \n",
       "22  https://en.wikipedia.org/wiki/Las_Vegas_Grand_...  \n",
       "32  http://en.wikipedia.org/wiki/Phoenix_street_ci...  \n",
       "36  http://en.wikipedia.org/wiki/Detroit_street_ci...  \n",
       "41             http://en.wikipedia.org/wiki/Fair_Park  \n",
       "42  http://en.wikipedia.org/wiki/Long_Beach,_Calif...  \n",
       "43  http://en.wikipedia.org/wiki/Las_Vegas_Street_...  \n",
       "45  http://en.wikipedia.org/wiki/Watkins_Glen_Inte...  \n",
       "59  http://en.wikipedia.org/wiki/Riverside_Interna...  \n",
       "62       http://en.wikipedia.org/wiki/Sebring_Raceway  \n",
       "68  http://en.wikipedia.org/wiki/Circuit_of_the_Am...  \n",
       "76  http://en.wikipedia.org/wiki/Miami_Internation...  "
      ]
     },
     "execution_count": 49,
     "metadata": {},
     "output_type": "execute_result"
    }
   ],
   "source": [
    "pd.concat([circuits_spain, circuits_usa])"
   ]
  },
  {
   "cell_type": "code",
   "execution_count": 50,
   "metadata": {},
   "outputs": [
    {
     "data": {
      "text/html": [
       "<div>\n",
       "<style scoped>\n",
       "    .dataframe tbody tr th:only-of-type {\n",
       "        vertical-align: middle;\n",
       "    }\n",
       "\n",
       "    .dataframe tbody tr th {\n",
       "        vertical-align: top;\n",
       "    }\n",
       "\n",
       "    .dataframe thead th {\n",
       "        text-align: right;\n",
       "    }\n",
       "</style>\n",
       "<table border=\"1\" class=\"dataframe\">\n",
       "  <thead>\n",
       "    <tr style=\"text-align: right;\">\n",
       "      <th></th>\n",
       "      <th>circuitId</th>\n",
       "      <th>circuit_name</th>\n",
       "      <th>country</th>\n",
       "      <th>lat</th>\n",
       "      <th>lng</th>\n",
       "      <th>alt</th>\n",
       "      <th>url</th>\n",
       "      <th>circuitRef</th>\n",
       "      <th>location</th>\n",
       "    </tr>\n",
       "  </thead>\n",
       "  <tbody>\n",
       "    <tr>\n",
       "      <th>3</th>\n",
       "      <td>4</td>\n",
       "      <td>Circuit de Barcelona-Catalunya</td>\n",
       "      <td>Spain</td>\n",
       "      <td>41.5700</td>\n",
       "      <td>2.261110</td>\n",
       "      <td>109</td>\n",
       "      <td>http://en.wikipedia.org/wiki/Circuit_de_Barcel...</td>\n",
       "      <td>NaN</td>\n",
       "      <td>NaN</td>\n",
       "    </tr>\n",
       "    <tr>\n",
       "      <th>11</th>\n",
       "      <td>12</td>\n",
       "      <td>Valencia Street Circuit</td>\n",
       "      <td>Spain</td>\n",
       "      <td>39.4589</td>\n",
       "      <td>-0.331667</td>\n",
       "      <td>4</td>\n",
       "      <td>http://en.wikipedia.org/wiki/Valencia_Street_C...</td>\n",
       "      <td>NaN</td>\n",
       "      <td>NaN</td>\n",
       "    </tr>\n",
       "    <tr>\n",
       "      <th>25</th>\n",
       "      <td>26</td>\n",
       "      <td>Circuito de Jerez</td>\n",
       "      <td>Spain</td>\n",
       "      <td>36.7083</td>\n",
       "      <td>-6.034170</td>\n",
       "      <td>37</td>\n",
       "      <td>http://en.wikipedia.org/wiki/Circuito_Permanen...</td>\n",
       "      <td>NaN</td>\n",
       "      <td>NaN</td>\n",
       "    </tr>\n",
       "    <tr>\n",
       "      <th>44</th>\n",
       "      <td>45</td>\n",
       "      <td>Jarama</td>\n",
       "      <td>Spain</td>\n",
       "      <td>40.6171</td>\n",
       "      <td>-3.585580</td>\n",
       "      <td>609</td>\n",
       "      <td>http://en.wikipedia.org/wiki/Circuito_Permanen...</td>\n",
       "      <td>NaN</td>\n",
       "      <td>NaN</td>\n",
       "    </tr>\n",
       "    <tr>\n",
       "      <th>48</th>\n",
       "      <td>49</td>\n",
       "      <td>Montjuïc</td>\n",
       "      <td>Spain</td>\n",
       "      <td>41.3664</td>\n",
       "      <td>2.151670</td>\n",
       "      <td>79</td>\n",
       "      <td>http://en.wikipedia.org/wiki/Montju%C3%AFc_cir...</td>\n",
       "      <td>NaN</td>\n",
       "      <td>NaN</td>\n",
       "    </tr>\n",
       "    <tr>\n",
       "      <th>66</th>\n",
       "      <td>67</td>\n",
       "      <td>Circuit de Pedralbes</td>\n",
       "      <td>Spain</td>\n",
       "      <td>41.3903</td>\n",
       "      <td>2.116670</td>\n",
       "      <td>85</td>\n",
       "      <td>http://en.wikipedia.org/wiki/Pedralbes_Circuit</td>\n",
       "      <td>NaN</td>\n",
       "      <td>NaN</td>\n",
       "    </tr>\n",
       "    <tr>\n",
       "      <th>18</th>\n",
       "      <td>19</td>\n",
       "      <td>Indianapolis Motor Speedway</td>\n",
       "      <td>USA</td>\n",
       "      <td>39.7950</td>\n",
       "      <td>-86.234700</td>\n",
       "      <td>223</td>\n",
       "      <td>http://en.wikipedia.org/wiki/Indianapolis_Moto...</td>\n",
       "      <td>indianapolis</td>\n",
       "      <td>Indianapolis</td>\n",
       "    </tr>\n",
       "    <tr>\n",
       "      <th>22</th>\n",
       "      <td>80</td>\n",
       "      <td>Las Vegas Strip Street Circuit</td>\n",
       "      <td>United States</td>\n",
       "      <td>36.1147</td>\n",
       "      <td>-115.173000</td>\n",
       "      <td>\\N</td>\n",
       "      <td>https://en.wikipedia.org/wiki/Las_Vegas_Grand_...</td>\n",
       "      <td>vegas</td>\n",
       "      <td>Las Vegas</td>\n",
       "    </tr>\n",
       "    <tr>\n",
       "      <th>32</th>\n",
       "      <td>33</td>\n",
       "      <td>Phoenix street circuit</td>\n",
       "      <td>USA</td>\n",
       "      <td>33.4479</td>\n",
       "      <td>-112.075000</td>\n",
       "      <td>345</td>\n",
       "      <td>http://en.wikipedia.org/wiki/Phoenix_street_ci...</td>\n",
       "      <td>phoenix</td>\n",
       "      <td>Phoenix</td>\n",
       "    </tr>\n",
       "    <tr>\n",
       "      <th>36</th>\n",
       "      <td>37</td>\n",
       "      <td>Detroit Street Circuit</td>\n",
       "      <td>USA</td>\n",
       "      <td>42.3298</td>\n",
       "      <td>-83.040100</td>\n",
       "      <td>177</td>\n",
       "      <td>http://en.wikipedia.org/wiki/Detroit_street_ci...</td>\n",
       "      <td>detroit</td>\n",
       "      <td>Detroit</td>\n",
       "    </tr>\n",
       "    <tr>\n",
       "      <th>41</th>\n",
       "      <td>42</td>\n",
       "      <td>Fair Park</td>\n",
       "      <td>USA</td>\n",
       "      <td>32.7774</td>\n",
       "      <td>-96.758700</td>\n",
       "      <td>139</td>\n",
       "      <td>http://en.wikipedia.org/wiki/Fair_Park</td>\n",
       "      <td>dallas</td>\n",
       "      <td>Dallas</td>\n",
       "    </tr>\n",
       "    <tr>\n",
       "      <th>42</th>\n",
       "      <td>43</td>\n",
       "      <td>Long Beach</td>\n",
       "      <td>USA</td>\n",
       "      <td>33.7651</td>\n",
       "      <td>-118.189000</td>\n",
       "      <td>12</td>\n",
       "      <td>http://en.wikipedia.org/wiki/Long_Beach,_Calif...</td>\n",
       "      <td>long_beach</td>\n",
       "      <td>California</td>\n",
       "    </tr>\n",
       "    <tr>\n",
       "      <th>43</th>\n",
       "      <td>44</td>\n",
       "      <td>Las Vegas Street Circuit</td>\n",
       "      <td>USA</td>\n",
       "      <td>36.1162</td>\n",
       "      <td>-115.174000</td>\n",
       "      <td>639</td>\n",
       "      <td>http://en.wikipedia.org/wiki/Las_Vegas_Street_...</td>\n",
       "      <td>las_vegas</td>\n",
       "      <td>Nevada</td>\n",
       "    </tr>\n",
       "    <tr>\n",
       "      <th>45</th>\n",
       "      <td>46</td>\n",
       "      <td>Watkins Glen</td>\n",
       "      <td>USA</td>\n",
       "      <td>42.3369</td>\n",
       "      <td>-76.927200</td>\n",
       "      <td>485</td>\n",
       "      <td>http://en.wikipedia.org/wiki/Watkins_Glen_Inte...</td>\n",
       "      <td>watkins_glen</td>\n",
       "      <td>New York State</td>\n",
       "    </tr>\n",
       "    <tr>\n",
       "      <th>59</th>\n",
       "      <td>60</td>\n",
       "      <td>Riverside International Raceway</td>\n",
       "      <td>USA</td>\n",
       "      <td>33.9370</td>\n",
       "      <td>-117.273000</td>\n",
       "      <td>470</td>\n",
       "      <td>http://en.wikipedia.org/wiki/Riverside_Interna...</td>\n",
       "      <td>riverside</td>\n",
       "      <td>California</td>\n",
       "    </tr>\n",
       "    <tr>\n",
       "      <th>62</th>\n",
       "      <td>63</td>\n",
       "      <td>Sebring International Raceway</td>\n",
       "      <td>USA</td>\n",
       "      <td>27.4547</td>\n",
       "      <td>-81.348300</td>\n",
       "      <td>18</td>\n",
       "      <td>http://en.wikipedia.org/wiki/Sebring_Raceway</td>\n",
       "      <td>sebring</td>\n",
       "      <td>Florida</td>\n",
       "    </tr>\n",
       "    <tr>\n",
       "      <th>68</th>\n",
       "      <td>69</td>\n",
       "      <td>Circuit of the Americas</td>\n",
       "      <td>USA</td>\n",
       "      <td>30.1328</td>\n",
       "      <td>-97.641100</td>\n",
       "      <td>161</td>\n",
       "      <td>http://en.wikipedia.org/wiki/Circuit_of_the_Am...</td>\n",
       "      <td>americas</td>\n",
       "      <td>Austin</td>\n",
       "    </tr>\n",
       "    <tr>\n",
       "      <th>76</th>\n",
       "      <td>79</td>\n",
       "      <td>Miami International Autodrome</td>\n",
       "      <td>USA</td>\n",
       "      <td>25.9581</td>\n",
       "      <td>-80.238900</td>\n",
       "      <td>\\N</td>\n",
       "      <td>http://en.wikipedia.org/wiki/Miami_Internation...</td>\n",
       "      <td>miami</td>\n",
       "      <td>Miami</td>\n",
       "    </tr>\n",
       "  </tbody>\n",
       "</table>\n",
       "</div>"
      ],
      "text/plain": [
       "    circuitId                     circuit_name        country      lat  \\\n",
       "3           4   Circuit de Barcelona-Catalunya          Spain  41.5700   \n",
       "11         12          Valencia Street Circuit          Spain  39.4589   \n",
       "25         26                Circuito de Jerez          Spain  36.7083   \n",
       "44         45                           Jarama          Spain  40.6171   \n",
       "48         49                         Montjuïc          Spain  41.3664   \n",
       "66         67             Circuit de Pedralbes          Spain  41.3903   \n",
       "18         19      Indianapolis Motor Speedway            USA  39.7950   \n",
       "22         80   Las Vegas Strip Street Circuit  United States  36.1147   \n",
       "32         33           Phoenix street circuit            USA  33.4479   \n",
       "36         37           Detroit Street Circuit            USA  42.3298   \n",
       "41         42                        Fair Park            USA  32.7774   \n",
       "42         43                       Long Beach            USA  33.7651   \n",
       "43         44         Las Vegas Street Circuit            USA  36.1162   \n",
       "45         46                     Watkins Glen            USA  42.3369   \n",
       "59         60  Riverside International Raceway            USA  33.9370   \n",
       "62         63    Sebring International Raceway            USA  27.4547   \n",
       "68         69          Circuit of the Americas            USA  30.1328   \n",
       "76         79    Miami International Autodrome            USA  25.9581   \n",
       "\n",
       "           lng  alt                                                url  \\\n",
       "3     2.261110  109  http://en.wikipedia.org/wiki/Circuit_de_Barcel...   \n",
       "11   -0.331667    4  http://en.wikipedia.org/wiki/Valencia_Street_C...   \n",
       "25   -6.034170   37  http://en.wikipedia.org/wiki/Circuito_Permanen...   \n",
       "44   -3.585580  609  http://en.wikipedia.org/wiki/Circuito_Permanen...   \n",
       "48    2.151670   79  http://en.wikipedia.org/wiki/Montju%C3%AFc_cir...   \n",
       "66    2.116670   85     http://en.wikipedia.org/wiki/Pedralbes_Circuit   \n",
       "18  -86.234700  223  http://en.wikipedia.org/wiki/Indianapolis_Moto...   \n",
       "22 -115.173000   \\N  https://en.wikipedia.org/wiki/Las_Vegas_Grand_...   \n",
       "32 -112.075000  345  http://en.wikipedia.org/wiki/Phoenix_street_ci...   \n",
       "36  -83.040100  177  http://en.wikipedia.org/wiki/Detroit_street_ci...   \n",
       "41  -96.758700  139             http://en.wikipedia.org/wiki/Fair_Park   \n",
       "42 -118.189000   12  http://en.wikipedia.org/wiki/Long_Beach,_Calif...   \n",
       "43 -115.174000  639  http://en.wikipedia.org/wiki/Las_Vegas_Street_...   \n",
       "45  -76.927200  485  http://en.wikipedia.org/wiki/Watkins_Glen_Inte...   \n",
       "59 -117.273000  470  http://en.wikipedia.org/wiki/Riverside_Interna...   \n",
       "62  -81.348300   18       http://en.wikipedia.org/wiki/Sebring_Raceway   \n",
       "68  -97.641100  161  http://en.wikipedia.org/wiki/Circuit_of_the_Am...   \n",
       "76  -80.238900   \\N  http://en.wikipedia.org/wiki/Miami_Internation...   \n",
       "\n",
       "      circuitRef        location  \n",
       "3            NaN             NaN  \n",
       "11           NaN             NaN  \n",
       "25           NaN             NaN  \n",
       "44           NaN             NaN  \n",
       "48           NaN             NaN  \n",
       "66           NaN             NaN  \n",
       "18  indianapolis    Indianapolis  \n",
       "22         vegas       Las Vegas  \n",
       "32       phoenix         Phoenix  \n",
       "36       detroit         Detroit  \n",
       "41        dallas          Dallas  \n",
       "42    long_beach      California  \n",
       "43     las_vegas          Nevada  \n",
       "45  watkins_glen  New York State  \n",
       "59     riverside      California  \n",
       "62       sebring         Florida  \n",
       "68      americas          Austin  \n",
       "76         miami           Miami  "
      ]
     },
     "execution_count": 50,
     "metadata": {},
     "output_type": "execute_result"
    }
   ],
   "source": [
    "pd.concat([circuits_spain_drop, circuits_usa])"
   ]
  },
  {
   "attachments": {},
   "cell_type": "markdown",
   "metadata": {},
   "source": [
    "<font size = \"5\">\n",
    "\n",
    "Try it yourself!\n",
    "\n",
    "- Concatenate the USA and Malaysia datasets\n",
    "\n"
   ]
  },
  {
   "cell_type": "code",
   "execution_count": 51,
   "metadata": {},
   "outputs": [],
   "source": [
    "# Write your own code\n",
    "\n",
    "\n",
    "\n"
   ]
  },
  {
   "cell_type": "markdown",
   "metadata": {},
   "source": [
    "\n",
    "# More information on dictionaries\n",
    "\n",
    "<font size = \"5\">\n",
    "\n",
    "https://realpython.com/python-dicts/\n"
   ]
  }
 ],
 "metadata": {
  "kernelspec": {
   "display_name": "base",
   "language": "python",
   "name": "python3"
  },
  "language_info": {
   "codemirror_mode": {
    "name": "ipython",
    "version": 3
   },
   "file_extension": ".py",
   "mimetype": "text/x-python",
   "name": "python",
   "nbconvert_exporter": "python",
   "pygments_lexer": "ipython3",
   "version": "3.13.5"
  },
  "orig_nbformat": 4,
  "vscode": {
   "interpreter": {
    "hash": "45fc1f684f6f416f40889115beff3ddf69879b64cf4bfee48cb72a61e9d15d1a"
   }
  }
 },
 "nbformat": 4,
 "nbformat_minor": 2
}
